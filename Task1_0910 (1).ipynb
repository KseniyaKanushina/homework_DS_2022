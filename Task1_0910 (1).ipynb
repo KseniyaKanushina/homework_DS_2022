{
 "cells": [
  {
   "cell_type": "markdown",
   "id": "6ab500d3",
   "metadata": {},
   "source": [
    "# Задание\n",
    "Собрать информацию о всех строящихся объектах на сайте \"наш.дом.рф\"\n",
    "Cохранить ее в pandas dataframe\n",
    "Cохранить pandas dataframe в excel\n",
    "Cохранить pandas dataframe в pickle\n",
    "Cохранить pandas dataframe в БД"
   ]
  },
  {
   "cell_type": "code",
   "execution_count": 9,
   "id": "d1edf74b",
   "metadata": {},
   "outputs": [],
   "source": [
    "import requests\n",
    "import json\n",
    "import os\n",
    "import pandas as pd\n",
    "import sqlite3\n",
    "import time\n",
    "from tqdm.notebook import tqdm"
   ]
  },
  {
   "cell_type": "markdown",
   "id": "899b1db7",
   "metadata": {},
   "source": [
    "# Список объектов"
   ]
  },
  {
   "cell_type": "code",
   "execution_count": 12,
   "id": "756f7c6d",
   "metadata": {},
   "outputs": [
    {
     "data": {
      "text/plain": [
       "{'objId': 13383,\n",
       " 'developer': {'devId': 306,\n",
       "  'shortName': '2МЕН ГРУПП',\n",
       "  'fullName': '2МЕН ГРУПП',\n",
       "  'groupName': '2МЕН ГРУПП ДЕВЕЛОПМЕНТ',\n",
       "  'orgForm': {'id': 1, 'fullForm': 'Акционерное общество', 'shortForm': 'АО'},\n",
       "  'companyGroup': 5776,\n",
       "  'devInn': '7701651356'},\n",
       " 'rpdRegionCd': 72,\n",
       " 'objAddr': 'г Тюмень',\n",
       " 'objFloorMin': 4,\n",
       " 'objFloorMax': 20,\n",
       " 'objElemLivingCnt': 68,\n",
       " 'objReady100PercDt': '2022-12-31',\n",
       " 'objSquareLiving': 6293.78,\n",
       " 'objCompensFundFlg': 1,\n",
       " 'objProblemFlg': 0,\n",
       " 'latitude': 57.1519,\n",
       " 'longitude': 65.5536,\n",
       " 'problemFlag': 'NONE',\n",
       " 'siteStatus': 'Строящиеся',\n",
       " 'objGuarantyEscrowFlg': 0,\n",
       " 'residentialBuildings': 1,\n",
       " 'rpdNum': '72-000095',\n",
       " 'pdId': 28105,\n",
       " 'buildType': 'Жилое',\n",
       " 'objStatus': 0}"
      ]
     },
     "execution_count": 12,
     "metadata": {},
     "output_type": "execute_result"
    }
   ],
   "source": [
    "# Для скачивания данных по\n",
    "\n",
    "offset_ = 1\n",
    "limit_ = 1000\n",
    "url = f'https://xn--80az8a.xn--d1aqf.xn--p1ai/%D1%81%D0%B5%D1%80%D0%B2%D0%B8%D1%81%D1%8B/api/kn/object?offset={offset_}&limit={limit_}&sortField=devId.devShortCleanNm&sortType=asc&objStatus=0'\n",
    "res = requests.get(url)\n",
    "objects_data = res.json()\n",
    "objects_data.get('data').get('list')[0]"
   ]
  },
  {
   "cell_type": "code",
   "execution_count": 23,
   "id": "cef0208f",
   "metadata": {},
   "outputs": [
    {
     "data": {
      "application/vnd.jupyter.widget-view+json": {
       "model_id": "677230149fe3435db5bd09e5d22b6e28",
       "version_major": 2,
       "version_minor": 0
      },
      "text/plain": [
       "  0%|          | 0/110 [00:00<?, ?it/s]"
      ]
     },
     "metadata": {},
     "output_type": "display_data"
    }
   ],
   "source": [
    "limit_ = 100\n",
    "objlist = []\n",
    "import time\n",
    "for i in tqdm(range(1, 11000, limit_)):\n",
    "    try:\n",
    "        offset_ = i\n",
    "        url = f'https://xn--80az8a.xn--d1aqf.xn--p1ai/%D1%81%D0%B5%D1%80%D0%B2%D0%B8%D1%81%D1%8B/api/kn/object?offset={offset_}&limit={limit_}&sortField=devId.devShortCleanNm&sortType=asc&objStatus=0'\n",
    "        res = requests.get(url)\n",
    "        objlist.append(res.json())\n",
    "    except JSONDecodeError as e:\n",
    "        print(e)\n",
    "        time.sleep(4)\n",
    "        url = f'https://xn--80az8a.xn--d1aqf.xn--p1ai/%D1%81%D0%B5%D1%80%D0%B2%D0%B8%D1%81%D1%8B/api/kn/object?offset={offset_}&limit={limit_}&sortField=devId.devShortCleanNm&sortType=asc&objStatus=0'\n",
    "        res = requests.get(url)\n",
    "        objlist.append(res.json())"
   ]
  },
  {
   "cell_type": "code",
   "execution_count": 24,
   "id": "31e53563",
   "metadata": {},
   "outputs": [
    {
     "data": {
      "text/plain": [
       "[13383, 13397, 13391, 13398, 13399, 36912, 44076, 27476, 10891, 39176]"
      ]
     },
     "execution_count": 24,
     "metadata": {},
     "output_type": "execute_result"
    }
   ],
   "source": [
    "objects_list = objects_data.get('data').get('list')\n",
    "objids = [x.get('objId') for x in objects_list]\n",
    "objids[:10]"
   ]
  },
  {
   "cell_type": "code",
   "execution_count": 25,
   "id": "0702cf27",
   "metadata": {},
   "outputs": [
    {
     "data": {
      "text/plain": [
       "110"
      ]
     },
     "execution_count": 25,
     "metadata": {},
     "output_type": "execute_result"
    }
   ],
   "source": [
    "len(objlist)"
   ]
  },
  {
   "cell_type": "code",
   "execution_count": 26,
   "id": "6c046cda",
   "metadata": {},
   "outputs": [],
   "source": [
    "object_ids = []\n",
    "for el in objlist:\n",
    "    object_ids.extend(el.get('data').get('list'))"
   ]
  },
  {
   "cell_type": "code",
   "execution_count": 27,
   "id": "6d442c2e",
   "metadata": {},
   "outputs": [
    {
     "data": {
      "text/plain": [
       "10619"
      ]
     },
     "execution_count": 27,
     "metadata": {},
     "output_type": "execute_result"
    }
   ],
   "source": [
    "len(object_ids)"
   ]
  },
  {
   "cell_type": "code",
   "execution_count": 28,
   "id": "82c400d1",
   "metadata": {},
   "outputs": [
    {
     "data": {
      "text/plain": [
       "[13383, 13397, 13391, 13398, 13399, 36912, 44076, 27476, 10891, 39176]"
      ]
     },
     "execution_count": 28,
     "metadata": {},
     "output_type": "execute_result"
    }
   ],
   "source": [
    "objects_list = objects_data.get('data').get('list')\n",
    "objids = [x.get('objId') for x in objects_list]\n",
    "objids[:10]"
   ]
  },
  {
   "cell_type": "markdown",
   "id": "241c7382",
   "metadata": {},
   "source": [
    "# Данные по определенному объекту"
   ]
  },
  {
   "cell_type": "code",
   "execution_count": 29,
   "id": "1ead2a1e",
   "metadata": {},
   "outputs": [],
   "source": [
    "# Для скачивания данных по определенному объекту, нужно добавить его id в конец строки запроса\n",
    "url = f'https://xn--80az8a.xn--d1aqf.xn--p1ai/%D1%81%D0%B5%D1%80%D0%B2%D0%B8%D1%81%D1%8B/api/object/29679'"
   ]
  },
  {
   "cell_type": "code",
   "execution_count": 30,
   "id": "47957cda",
   "metadata": {},
   "outputs": [
    {
     "data": {
      "text/plain": [
       "{'data': {'id': 29679,\n",
       "  'pdId': 124647,\n",
       "  'developer': {'devId': 7424,\n",
       "   'devShortCleanNm': '212-2',\n",
       "   'devShortNm': '212-2',\n",
       "   'devFullCleanNm': '212-2',\n",
       "   'problObjCnt': 0,\n",
       "   'buildObjCnt': 1,\n",
       "   'comissObjCnt': 0,\n",
       "   'regRegionDesc': 'Ростовская область',\n",
       "   'devPhoneNum': '+7(961)285-90-10',\n",
       "   'devSite': 'taganrogjsk.wixsite.com',\n",
       "   'devEmail': 'kirpol76@gmail.com',\n",
       "   'devInn': '6154572922',\n",
       "   'devOgrn': '1116154005923',\n",
       "   'devKpp': '615401001',\n",
       "   'devLegalAddr': 'Ростовская область, город Таганрог, улица Свободы/Трудовых резервов дом 25/9',\n",
       "   'devFactAddr': 'обл Ростовская город Таганрог улица Сергея Шило д. 212-2',\n",
       "   'lastRpdId': 126093,\n",
       "   'fundGuarantyFlg': 0,\n",
       "   'devOrgRegRegionCd': 61,\n",
       "   'devEmplMainFullNm': 'Снимщикова Ольга Викторовна',\n",
       "   'orgForm': {'id': 20,\n",
       "    'fullForm': 'Жилищный или жилищно-строительный кооператив',\n",
       "    'shortForm': 'ЖСК'},\n",
       "   'objGuarantyEscrowFlg': 0,\n",
       "   'govFundFlg': 0},\n",
       "  'region': 61,\n",
       "  'address': 'г Таганрог',\n",
       "  'objElemLivingCnt': 18,\n",
       "  'objReady100PercDt': '2020-03-31',\n",
       "  'wallMaterialShortDesc': 'Другое',\n",
       "  'objLkFinishTypeDesc': 'Под ключ',\n",
       "  'objLkFreePlanDesc': 'Есть',\n",
       "  'objElemParkingCnt': 0,\n",
       "  'objSquareLiving': 1519.0,\n",
       "  'rpdNum': '61-000818',\n",
       "  'rpdPdfLink': 'https://xn--80az8a.xn--d1aqf.xn--p1ai/api/ext/file/092af1ad-2b49-4150-8a92-293031e2f79a',\n",
       "  'rpdIssueDttm': '20-03-2019 18:41',\n",
       "  'objLkLatitude': '47.2238',\n",
       "  'objLkLongitude': '38.8513',\n",
       "  'objCompensFundFlg': 0,\n",
       "  'objProblemFlg': 0,\n",
       "  'objLkClassDesc': 'Комфорт',\n",
       "  'loadDttm': '09-10-2022 01:29',\n",
       "  'photoRenderDTO': [],\n",
       "  'objGuarantyEscrowFlg': 0,\n",
       "  'objectType': 'normal',\n",
       "  'residentialBuildings': 1,\n",
       "  'newBuildingId': 40800,\n",
       "  'objFlatCnt': 18,\n",
       "  'objFlatSq': '1519.0',\n",
       "  'objNonlivElemCnt': 0,\n",
       "  'objStatus': 0,\n",
       "  'isAvailableWantLiveHere': True,\n",
       "  'objInfrstrBicycleLaneFlg': 0,\n",
       "  'objInfrstrRampFlg': 0,\n",
       "  'objInfrstrCurbLoweringFlg': 0,\n",
       "  'objElevatorCargoPassengerCnt': 0,\n",
       "  'objectTransportInfo': [],\n",
       "  'conclusion': False,\n",
       "  'objGreenHouseFlg': 0,\n",
       "  'objEnergyEffShortDesc': 'Не нормируется',\n",
       "  'infrastructureIndexValue': 7},\n",
       " 'errcode': '0'}"
      ]
     },
     "execution_count": 30,
     "metadata": {},
     "output_type": "execute_result"
    }
   ],
   "source": [
    "res = requests.get(url)\n",
    "res.json()"
   ]
  },
  {
   "cell_type": "code",
   "execution_count": 31,
   "id": "ad865e0f",
   "metadata": {},
   "outputs": [],
   "source": [
    "import pandas as pd\n",
    "from tqdm.auto import tqdm"
   ]
  },
  {
   "cell_type": "code",
   "execution_count": 32,
   "id": "0c3965f9",
   "metadata": {},
   "outputs": [
    {
     "data": {
      "application/vnd.jupyter.widget-view+json": {
       "model_id": "e27c173bc5d5444d9b6b5cfc291ee16a",
       "version_major": 2,
       "version_minor": 0
      },
      "text/plain": [
       "  0%|          | 0/1000 [00:00<?, ?it/s]"
      ]
     },
     "metadata": {},
     "output_type": "display_data"
    }
   ],
   "source": [
    "d = []\n",
    "for obj in tqdm(objids):\n",
    "    url = f'https://xn--80az8a.xn--d1aqf.xn--p1ai/%D1%81%D0%B5%D1%80%D0%B2%D0%B8%D1%81%D1%8B/api/object/{obj}'\n",
    "    res = requests.get(url)\n",
    "    d.append(res.json())"
   ]
  },
  {
   "cell_type": "code",
   "execution_count": 33,
   "id": "4b524b05",
   "metadata": {},
   "outputs": [
    {
     "data": {
      "text/plain": [
       "1000"
      ]
     },
     "execution_count": 33,
     "metadata": {},
     "output_type": "execute_result"
    }
   ],
   "source": [
    "len(d)"
   ]
  },
  {
   "cell_type": "code",
   "execution_count": 34,
   "id": "5d986f59",
   "metadata": {},
   "outputs": [],
   "source": [
    "df=pd.json_normalize(d)"
   ]
  },
  {
   "cell_type": "code",
   "execution_count": 35,
   "id": "f9986306",
   "metadata": {},
   "outputs": [],
   "source": [
    "df.fillna(0, inplace=True)"
   ]
  },
  {
   "cell_type": "code",
   "execution_count": 36,
   "id": "11dfedc8",
   "metadata": {},
   "outputs": [
    {
     "data": {
      "text/html": [
       "<div>\n",
       "<style scoped>\n",
       "    .dataframe tbody tr th:only-of-type {\n",
       "        vertical-align: middle;\n",
       "    }\n",
       "\n",
       "    .dataframe tbody tr th {\n",
       "        vertical-align: top;\n",
       "    }\n",
       "\n",
       "    .dataframe thead th {\n",
       "        text-align: right;\n",
       "    }\n",
       "</style>\n",
       "<table border=\"1\" class=\"dataframe\">\n",
       "  <thead>\n",
       "    <tr style=\"text-align: right;\">\n",
       "      <th></th>\n",
       "      <th>errcode</th>\n",
       "      <th>data.id</th>\n",
       "      <th>data.pdId</th>\n",
       "      <th>data.developer.devId</th>\n",
       "      <th>data.developer.devShortCleanNm</th>\n",
       "      <th>data.developer.devShortNm</th>\n",
       "      <th>data.developer.devFullCleanNm</th>\n",
       "      <th>data.developer.problObjCnt</th>\n",
       "      <th>data.developer.buildObjCnt</th>\n",
       "      <th>data.developer.comissObjCnt</th>\n",
       "      <th>...</th>\n",
       "      <th>data.developer.bankruptStage.bankruptStageDesc</th>\n",
       "      <th>data.developer.bankruptStage.bankruptLawUrl</th>\n",
       "      <th>data.developer.orgBankruptMsgDttm</th>\n",
       "      <th>data.metro.id</th>\n",
       "      <th>data.metro.name</th>\n",
       "      <th>data.metro.line</th>\n",
       "      <th>data.metro.color</th>\n",
       "      <th>data.metro.time</th>\n",
       "      <th>data.metro.isWalk</th>\n",
       "      <th>data.metro.colors</th>\n",
       "    </tr>\n",
       "  </thead>\n",
       "  <tbody>\n",
       "    <tr>\n",
       "      <th>0</th>\n",
       "      <td>0</td>\n",
       "      <td>13383</td>\n",
       "      <td>28105</td>\n",
       "      <td>306</td>\n",
       "      <td>2МЕН ГРУПП</td>\n",
       "      <td>2МЕН ГРУПП</td>\n",
       "      <td>2МЕН ГРУПП</td>\n",
       "      <td>0</td>\n",
       "      <td>5</td>\n",
       "      <td>0</td>\n",
       "      <td>...</td>\n",
       "      <td>0</td>\n",
       "      <td>0</td>\n",
       "      <td>0</td>\n",
       "      <td>0</td>\n",
       "      <td>0</td>\n",
       "      <td>0</td>\n",
       "      <td>0</td>\n",
       "      <td>0.0</td>\n",
       "      <td>0</td>\n",
       "      <td>0</td>\n",
       "    </tr>\n",
       "    <tr>\n",
       "      <th>1</th>\n",
       "      <td>0</td>\n",
       "      <td>13397</td>\n",
       "      <td>28141</td>\n",
       "      <td>306</td>\n",
       "      <td>2МЕН ГРУПП</td>\n",
       "      <td>2МЕН ГРУПП</td>\n",
       "      <td>2МЕН ГРУПП</td>\n",
       "      <td>0</td>\n",
       "      <td>5</td>\n",
       "      <td>0</td>\n",
       "      <td>...</td>\n",
       "      <td>0</td>\n",
       "      <td>0</td>\n",
       "      <td>0</td>\n",
       "      <td>0</td>\n",
       "      <td>0</td>\n",
       "      <td>0</td>\n",
       "      <td>0</td>\n",
       "      <td>0.0</td>\n",
       "      <td>0</td>\n",
       "      <td>0</td>\n",
       "    </tr>\n",
       "    <tr>\n",
       "      <th>2</th>\n",
       "      <td>0</td>\n",
       "      <td>13391</td>\n",
       "      <td>28101</td>\n",
       "      <td>306</td>\n",
       "      <td>2МЕН ГРУПП</td>\n",
       "      <td>2МЕН ГРУПП</td>\n",
       "      <td>2МЕН ГРУПП</td>\n",
       "      <td>0</td>\n",
       "      <td>5</td>\n",
       "      <td>0</td>\n",
       "      <td>...</td>\n",
       "      <td>0</td>\n",
       "      <td>0</td>\n",
       "      <td>0</td>\n",
       "      <td>0</td>\n",
       "      <td>0</td>\n",
       "      <td>0</td>\n",
       "      <td>0</td>\n",
       "      <td>0.0</td>\n",
       "      <td>0</td>\n",
       "      <td>0</td>\n",
       "    </tr>\n",
       "    <tr>\n",
       "      <th>3</th>\n",
       "      <td>0</td>\n",
       "      <td>13398</td>\n",
       "      <td>28141</td>\n",
       "      <td>306</td>\n",
       "      <td>2МЕН ГРУПП</td>\n",
       "      <td>2МЕН ГРУПП</td>\n",
       "      <td>2МЕН ГРУПП</td>\n",
       "      <td>0</td>\n",
       "      <td>5</td>\n",
       "      <td>0</td>\n",
       "      <td>...</td>\n",
       "      <td>0</td>\n",
       "      <td>0</td>\n",
       "      <td>0</td>\n",
       "      <td>0</td>\n",
       "      <td>0</td>\n",
       "      <td>0</td>\n",
       "      <td>0</td>\n",
       "      <td>0.0</td>\n",
       "      <td>0</td>\n",
       "      <td>0</td>\n",
       "    </tr>\n",
       "    <tr>\n",
       "      <th>4</th>\n",
       "      <td>0</td>\n",
       "      <td>13399</td>\n",
       "      <td>28141</td>\n",
       "      <td>306</td>\n",
       "      <td>2МЕН ГРУПП</td>\n",
       "      <td>2МЕН ГРУПП</td>\n",
       "      <td>2МЕН ГРУПП</td>\n",
       "      <td>0</td>\n",
       "      <td>5</td>\n",
       "      <td>0</td>\n",
       "      <td>...</td>\n",
       "      <td>0</td>\n",
       "      <td>0</td>\n",
       "      <td>0</td>\n",
       "      <td>0</td>\n",
       "      <td>0</td>\n",
       "      <td>0</td>\n",
       "      <td>0</td>\n",
       "      <td>0.0</td>\n",
       "      <td>0</td>\n",
       "      <td>0</td>\n",
       "    </tr>\n",
       "    <tr>\n",
       "      <th>...</th>\n",
       "      <td>...</td>\n",
       "      <td>...</td>\n",
       "      <td>...</td>\n",
       "      <td>...</td>\n",
       "      <td>...</td>\n",
       "      <td>...</td>\n",
       "      <td>...</td>\n",
       "      <td>...</td>\n",
       "      <td>...</td>\n",
       "      <td>...</td>\n",
       "      <td>...</td>\n",
       "      <td>...</td>\n",
       "      <td>...</td>\n",
       "      <td>...</td>\n",
       "      <td>...</td>\n",
       "      <td>...</td>\n",
       "      <td>...</td>\n",
       "      <td>...</td>\n",
       "      <td>...</td>\n",
       "      <td>...</td>\n",
       "      <td>...</td>\n",
       "    </tr>\n",
       "    <tr>\n",
       "      <th>995</th>\n",
       "      <td>0</td>\n",
       "      <td>41271</td>\n",
       "      <td>473855</td>\n",
       "      <td>12144</td>\n",
       "      <td>КАПСТРОЙ</td>\n",
       "      <td>КАПСТРОЙ</td>\n",
       "      <td>КАПСТРОЙ</td>\n",
       "      <td>0</td>\n",
       "      <td>3</td>\n",
       "      <td>0</td>\n",
       "      <td>...</td>\n",
       "      <td>0</td>\n",
       "      <td>0</td>\n",
       "      <td>0</td>\n",
       "      <td>0</td>\n",
       "      <td>0</td>\n",
       "      <td>0</td>\n",
       "      <td>0</td>\n",
       "      <td>0.0</td>\n",
       "      <td>0</td>\n",
       "      <td>0</td>\n",
       "    </tr>\n",
       "    <tr>\n",
       "      <th>996</th>\n",
       "      <td>0</td>\n",
       "      <td>26466</td>\n",
       "      <td>89998</td>\n",
       "      <td>6970</td>\n",
       "      <td>КАРА+</td>\n",
       "      <td>КАРА+</td>\n",
       "      <td>КАРА+</td>\n",
       "      <td>0</td>\n",
       "      <td>1</td>\n",
       "      <td>0</td>\n",
       "      <td>...</td>\n",
       "      <td>0</td>\n",
       "      <td>0</td>\n",
       "      <td>0</td>\n",
       "      <td>0</td>\n",
       "      <td>0</td>\n",
       "      <td>0</td>\n",
       "      <td>0</td>\n",
       "      <td>0.0</td>\n",
       "      <td>0</td>\n",
       "      <td>0</td>\n",
       "    </tr>\n",
       "    <tr>\n",
       "      <th>997</th>\n",
       "      <td>0</td>\n",
       "      <td>15822</td>\n",
       "      <td>31564</td>\n",
       "      <td>3332</td>\n",
       "      <td>КАРГО-ТРЕЙД</td>\n",
       "      <td>КАРГО-ТРЕЙД</td>\n",
       "      <td>КАРГО-ТРЕЙД</td>\n",
       "      <td>0</td>\n",
       "      <td>1</td>\n",
       "      <td>1</td>\n",
       "      <td>...</td>\n",
       "      <td>0</td>\n",
       "      <td>0</td>\n",
       "      <td>0</td>\n",
       "      <td>0</td>\n",
       "      <td>0</td>\n",
       "      <td>0</td>\n",
       "      <td>0</td>\n",
       "      <td>0.0</td>\n",
       "      <td>0</td>\n",
       "      <td>0</td>\n",
       "    </tr>\n",
       "    <tr>\n",
       "      <th>998</th>\n",
       "      <td>0</td>\n",
       "      <td>38862</td>\n",
       "      <td>406238</td>\n",
       "      <td>11254</td>\n",
       "      <td>КАСКАД СЗ</td>\n",
       "      <td>КАСКАД СЗ</td>\n",
       "      <td>КАСКАД СПЕЦИАЛИЗИРОВАННЫЙ ЗАСТРОЙЩИК</td>\n",
       "      <td>0</td>\n",
       "      <td>3</td>\n",
       "      <td>0</td>\n",
       "      <td>...</td>\n",
       "      <td>0</td>\n",
       "      <td>0</td>\n",
       "      <td>0</td>\n",
       "      <td>0</td>\n",
       "      <td>0</td>\n",
       "      <td>0</td>\n",
       "      <td>0</td>\n",
       "      <td>0.0</td>\n",
       "      <td>0</td>\n",
       "      <td>0</td>\n",
       "    </tr>\n",
       "    <tr>\n",
       "      <th>999</th>\n",
       "      <td>0</td>\n",
       "      <td>38864</td>\n",
       "      <td>417566</td>\n",
       "      <td>11254</td>\n",
       "      <td>КАСКАД СЗ</td>\n",
       "      <td>КАСКАД СЗ</td>\n",
       "      <td>КАСКАД СПЕЦИАЛИЗИРОВАННЫЙ ЗАСТРОЙЩИК</td>\n",
       "      <td>0</td>\n",
       "      <td>3</td>\n",
       "      <td>0</td>\n",
       "      <td>...</td>\n",
       "      <td>0</td>\n",
       "      <td>0</td>\n",
       "      <td>0</td>\n",
       "      <td>0</td>\n",
       "      <td>0</td>\n",
       "      <td>0</td>\n",
       "      <td>0</td>\n",
       "      <td>0.0</td>\n",
       "      <td>0</td>\n",
       "      <td>0</td>\n",
       "    </tr>\n",
       "  </tbody>\n",
       "</table>\n",
       "<p>1000 rows × 110 columns</p>\n",
       "</div>"
      ],
      "text/plain": [
       "    errcode  data.id  data.pdId  data.developer.devId  \\\n",
       "0         0    13383      28105                   306   \n",
       "1         0    13397      28141                   306   \n",
       "2         0    13391      28101                   306   \n",
       "3         0    13398      28141                   306   \n",
       "4         0    13399      28141                   306   \n",
       "..      ...      ...        ...                   ...   \n",
       "995       0    41271     473855                 12144   \n",
       "996       0    26466      89998                  6970   \n",
       "997       0    15822      31564                  3332   \n",
       "998       0    38862     406238                 11254   \n",
       "999       0    38864     417566                 11254   \n",
       "\n",
       "    data.developer.devShortCleanNm data.developer.devShortNm  \\\n",
       "0                       2МЕН ГРУПП                2МЕН ГРУПП   \n",
       "1                       2МЕН ГРУПП                2МЕН ГРУПП   \n",
       "2                       2МЕН ГРУПП                2МЕН ГРУПП   \n",
       "3                       2МЕН ГРУПП                2МЕН ГРУПП   \n",
       "4                       2МЕН ГРУПП                2МЕН ГРУПП   \n",
       "..                             ...                       ...   \n",
       "995                       КАПСТРОЙ                  КАПСТРОЙ   \n",
       "996                          КАРА+                     КАРА+   \n",
       "997                    КАРГО-ТРЕЙД               КАРГО-ТРЕЙД   \n",
       "998                      КАСКАД СЗ                 КАСКАД СЗ   \n",
       "999                      КАСКАД СЗ                 КАСКАД СЗ   \n",
       "\n",
       "            data.developer.devFullCleanNm  data.developer.problObjCnt  \\\n",
       "0                              2МЕН ГРУПП                           0   \n",
       "1                              2МЕН ГРУПП                           0   \n",
       "2                              2МЕН ГРУПП                           0   \n",
       "3                              2МЕН ГРУПП                           0   \n",
       "4                              2МЕН ГРУПП                           0   \n",
       "..                                    ...                         ...   \n",
       "995                              КАПСТРОЙ                           0   \n",
       "996                                 КАРА+                           0   \n",
       "997                           КАРГО-ТРЕЙД                           0   \n",
       "998  КАСКАД СПЕЦИАЛИЗИРОВАННЫЙ ЗАСТРОЙЩИК                           0   \n",
       "999  КАСКАД СПЕЦИАЛИЗИРОВАННЫЙ ЗАСТРОЙЩИК                           0   \n",
       "\n",
       "     data.developer.buildObjCnt  data.developer.comissObjCnt  ...  \\\n",
       "0                             5                            0  ...   \n",
       "1                             5                            0  ...   \n",
       "2                             5                            0  ...   \n",
       "3                             5                            0  ...   \n",
       "4                             5                            0  ...   \n",
       "..                          ...                          ...  ...   \n",
       "995                           3                            0  ...   \n",
       "996                           1                            0  ...   \n",
       "997                           1                            1  ...   \n",
       "998                           3                            0  ...   \n",
       "999                           3                            0  ...   \n",
       "\n",
       "    data.developer.bankruptStage.bankruptStageDesc  \\\n",
       "0                                                0   \n",
       "1                                                0   \n",
       "2                                                0   \n",
       "3                                                0   \n",
       "4                                                0   \n",
       "..                                             ...   \n",
       "995                                              0   \n",
       "996                                              0   \n",
       "997                                              0   \n",
       "998                                              0   \n",
       "999                                              0   \n",
       "\n",
       "    data.developer.bankruptStage.bankruptLawUrl  \\\n",
       "0                                             0   \n",
       "1                                             0   \n",
       "2                                             0   \n",
       "3                                             0   \n",
       "4                                             0   \n",
       "..                                          ...   \n",
       "995                                           0   \n",
       "996                                           0   \n",
       "997                                           0   \n",
       "998                                           0   \n",
       "999                                           0   \n",
       "\n",
       "    data.developer.orgBankruptMsgDttm data.metro.id data.metro.name  \\\n",
       "0                                   0             0               0   \n",
       "1                                   0             0               0   \n",
       "2                                   0             0               0   \n",
       "3                                   0             0               0   \n",
       "4                                   0             0               0   \n",
       "..                                ...           ...             ...   \n",
       "995                                 0             0               0   \n",
       "996                                 0             0               0   \n",
       "997                                 0             0               0   \n",
       "998                                 0             0               0   \n",
       "999                                 0             0               0   \n",
       "\n",
       "    data.metro.line data.metro.color data.metro.time data.metro.isWalk  \\\n",
       "0                 0                0             0.0                 0   \n",
       "1                 0                0             0.0                 0   \n",
       "2                 0                0             0.0                 0   \n",
       "3                 0                0             0.0                 0   \n",
       "4                 0                0             0.0                 0   \n",
       "..              ...              ...             ...               ...   \n",
       "995               0                0             0.0                 0   \n",
       "996               0                0             0.0                 0   \n",
       "997               0                0             0.0                 0   \n",
       "998               0                0             0.0                 0   \n",
       "999               0                0             0.0                 0   \n",
       "\n",
       "     data.metro.colors  \n",
       "0                    0  \n",
       "1                    0  \n",
       "2                    0  \n",
       "3                    0  \n",
       "4                    0  \n",
       "..                 ...  \n",
       "995                  0  \n",
       "996                  0  \n",
       "997                  0  \n",
       "998                  0  \n",
       "999                  0  \n",
       "\n",
       "[1000 rows x 110 columns]"
      ]
     },
     "execution_count": 36,
     "metadata": {},
     "output_type": "execute_result"
    }
   ],
   "source": [
    "df"
   ]
  },
  {
   "cell_type": "markdown",
   "id": "b7ad26aa",
   "metadata": {},
   "source": [
    "# Запись файлов :"
   ]
  },
  {
   "cell_type": "code",
   "execution_count": 38,
   "id": "feca3b8d",
   "metadata": {},
   "outputs": [],
   "source": [
    "def save_df_as_sqlite(df, fname=\"objects_data\"):\n",
    "    print(f\"Запись Датафрейма в файл {fname}.sqlite\")\n",
    "    df = df.astype(str)\n",
    "    if \"data\" not in os.listdir():\n",
    "        os.mkdir(f\"./data\")\n",
    "    conn = sqlite3.connect(f\"./data/{fname}.sqlite\")\n",
    "    df.to_sql(fname, conn, if_exists=\"replace\", index=False)\n",
    "    print(f\"Файл {fname}.sqlite успешно записан\\n---\\n\")\n",
    "    \n",
    "    \n",
    "def save_df_as_xlsx(df, fname=\"objects_data\"):\n",
    "    print(f\"Запись Датафрейма в файл {fname}.xlsx\")\n",
    "    df.to_excel(f\"./data/{fname}.xlsx\", engine=\"openpyxl\")\n",
    "    print(f\"Файл {fname}.sqlite успешно записан\\n---\\n\")\n",
    "\n",
    "    \n",
    "def save_df_as_pickle(df, fname=\"objects_data\"):\n",
    "    print(f\"Запись Датафрейма в файл {fname}.pkl\")\n",
    "    df.to_pickle(f\"./data/{fname}.pkl\")\n",
    "    print(f\"Файл {fname}.sqlite успешно записан\")"
   ]
  },
  {
   "cell_type": "code",
   "execution_count": 39,
   "id": "aa4de954",
   "metadata": {},
   "outputs": [
    {
     "name": "stdout",
     "output_type": "stream",
     "text": [
      "Запись Датафрейма в файл objects_data.sqlite\n",
      "Файл objects_data.sqlite успешно записан\n",
      "---\n",
      "\n",
      "Запись Датафрейма в файл objects_data.xlsx\n",
      "Файл objects_data.sqlite успешно записан\n",
      "---\n",
      "\n",
      "Запись Датафрейма в файл objects_data.pkl\n",
      "Файл objects_data.sqlite успешно записан\n"
     ]
    }
   ],
   "source": [
    "# Запись df в файлы\n",
    "save_df_as_sqlite(df)\n",
    "save_df_as_xlsx(df)\n",
    "save_df_as_pickle(df)"
   ]
  }
 ],
 "metadata": {
  "kernelspec": {
   "display_name": "Python 3",
   "language": "python",
   "name": "python3"
  },
  "language_info": {
   "codemirror_mode": {
    "name": "ipython",
    "version": 3
   },
   "file_extension": ".py",
   "mimetype": "text/x-python",
   "name": "python",
   "nbconvert_exporter": "python",
   "pygments_lexer": "ipython3",
   "version": "3.8.8"
  }
 },
 "nbformat": 4,
 "nbformat_minor": 5
}

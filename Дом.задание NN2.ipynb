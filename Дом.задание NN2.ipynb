{
 "cells": [
  {
   "cell_type": "markdown",
   "id": "7976a2c1",
   "metadata": {},
   "source": [
    "Обучить полносвязную модель на MNIST.\n",
    "\n",
    "Обучить глубокую сверточную сеть на MNIST.\n",
    "\n",
    "*Обучить с нуля глубокую сеть на небольшом датасете. Сравнить результат с дообучением предобученной сети."
   ]
  },
  {
   "cell_type": "code",
   "execution_count": 2,
   "id": "c24f2f2a",
   "metadata": {
    "scrolled": true
   },
   "outputs": [
    {
     "name": "stdout",
     "output_type": "stream",
     "text": [
      "Collecting torchvision\n",
      "  Downloading torchvision-0.14.0-cp38-cp38-win_amd64.whl (1.1 MB)\n",
      "Requirement already satisfied: typing-extensions in z:\\anaconda\\lib\\site-packages (from torchvision) (3.7.4.3)\n",
      "Requirement already satisfied: pillow!=8.3.*,>=5.3.0 in z:\\anaconda\\lib\\site-packages (from torchvision) (8.2.0)\n",
      "Requirement already satisfied: requests in z:\\anaconda\\lib\\site-packages (from torchvision) (2.25.1)\n",
      "Requirement already satisfied: numpy in z:\\anaconda\\lib\\site-packages (from torchvision) (1.20.1)\n",
      "Requirement already satisfied: torch==1.13.0 in z:\\anaconda\\lib\\site-packages (from torchvision) (1.13.0)\n",
      "Requirement already satisfied: certifi>=2017.4.17 in z:\\anaconda\\lib\\site-packages (from requests->torchvision) (2020.12.5)\n",
      "Requirement already satisfied: idna<3,>=2.5 in z:\\anaconda\\lib\\site-packages (from requests->torchvision) (2.10)\n",
      "Requirement already satisfied: urllib3<1.27,>=1.21.1 in z:\\anaconda\\lib\\site-packages (from requests->torchvision) (1.26.4)\n",
      "Requirement already satisfied: chardet<5,>=3.0.2 in z:\\anaconda\\lib\\site-packages (from requests->torchvision) (4.0.0)\n",
      "Installing collected packages: torchvision\n",
      "Successfully installed torchvision-0.14.0\n"
     ]
    }
   ],
   "source": [
    "!pip install torchvision"
   ]
  },
  {
   "cell_type": "code",
   "execution_count": 3,
   "id": "78bf56b7",
   "metadata": {},
   "outputs": [],
   "source": [
    "import torch\n",
    "import torch.nn as nn\n",
    "import torch.nn.functional as F\n",
    "import torchvision\n",
    "import torchvision.transforms as transforms\n",
    "import matplotlib.pyplot as plt\n",
    "import numpy as np\n",
    "\n",
    "# device config\n",
    "device = torch.device('cuda' if torch.cuda.is_available() else 'cpu')"
   ]
  },
  {
   "cell_type": "markdown",
   "id": "11cb66a1",
   "metadata": {},
   "source": [
    "# Обучение полносвязной сети на MNIST"
   ]
  },
  {
   "cell_type": "code",
   "execution_count": 4,
   "id": "eb93ae2b",
   "metadata": {},
   "outputs": [
    {
     "name": "stdout",
     "output_type": "stream",
     "text": [
      "Downloading http://yann.lecun.com/exdb/mnist/train-images-idx3-ubyte.gz\n",
      "Downloading http://yann.lecun.com/exdb/mnist/train-images-idx3-ubyte.gz to ./data\\MNIST\\raw\\train-images-idx3-ubyte.gz\n"
     ]
    },
    {
     "data": {
      "application/vnd.jupyter.widget-view+json": {
       "model_id": "002503ac853f412aaa9539944343edb4",
       "version_major": 2,
       "version_minor": 0
      },
      "text/plain": [
       "  0%|          | 0/9912422 [00:00<?, ?it/s]"
      ]
     },
     "metadata": {},
     "output_type": "display_data"
    },
    {
     "name": "stdout",
     "output_type": "stream",
     "text": [
      "Extracting ./data\\MNIST\\raw\\train-images-idx3-ubyte.gz to ./data\\MNIST\\raw\n",
      "\n",
      "Downloading http://yann.lecun.com/exdb/mnist/train-labels-idx1-ubyte.gz\n",
      "Downloading http://yann.lecun.com/exdb/mnist/train-labels-idx1-ubyte.gz to ./data\\MNIST\\raw\\train-labels-idx1-ubyte.gz\n"
     ]
    },
    {
     "data": {
      "application/vnd.jupyter.widget-view+json": {
       "model_id": "7ce59b5c5bb9436490fc7e48be270201",
       "version_major": 2,
       "version_minor": 0
      },
      "text/plain": [
       "  0%|          | 0/28881 [00:00<?, ?it/s]"
      ]
     },
     "metadata": {},
     "output_type": "display_data"
    },
    {
     "name": "stdout",
     "output_type": "stream",
     "text": [
      "Extracting ./data\\MNIST\\raw\\train-labels-idx1-ubyte.gz to ./data\\MNIST\\raw\n",
      "\n",
      "Downloading http://yann.lecun.com/exdb/mnist/t10k-images-idx3-ubyte.gz\n",
      "Downloading http://yann.lecun.com/exdb/mnist/t10k-images-idx3-ubyte.gz to ./data\\MNIST\\raw\\t10k-images-idx3-ubyte.gz\n"
     ]
    },
    {
     "data": {
      "application/vnd.jupyter.widget-view+json": {
       "model_id": "c2b189621d1e423f97095d8e9fcd507a",
       "version_major": 2,
       "version_minor": 0
      },
      "text/plain": [
       "  0%|          | 0/1648877 [00:00<?, ?it/s]"
      ]
     },
     "metadata": {},
     "output_type": "display_data"
    },
    {
     "name": "stdout",
     "output_type": "stream",
     "text": [
      "Extracting ./data\\MNIST\\raw\\t10k-images-idx3-ubyte.gz to ./data\\MNIST\\raw\n",
      "\n",
      "Downloading http://yann.lecun.com/exdb/mnist/t10k-labels-idx1-ubyte.gz\n",
      "Downloading http://yann.lecun.com/exdb/mnist/t10k-labels-idx1-ubyte.gz to ./data\\MNIST\\raw\\t10k-labels-idx1-ubyte.gz\n"
     ]
    },
    {
     "data": {
      "application/vnd.jupyter.widget-view+json": {
       "model_id": "38bd2fb7e0144904809c073aec389262",
       "version_major": 2,
       "version_minor": 0
      },
      "text/plain": [
       "  0%|          | 0/4542 [00:00<?, ?it/s]"
      ]
     },
     "metadata": {},
     "output_type": "display_data"
    },
    {
     "name": "stdout",
     "output_type": "stream",
     "text": [
      "Extracting ./data\\MNIST\\raw\\t10k-labels-idx1-ubyte.gz to ./data\\MNIST\\raw\n",
      "\n",
      "epoch 1 / 4, step 100 / 600, loss = 1.0457\n",
      "epoch 1 / 4, step 200 / 600, loss = 1.0837\n",
      "epoch 1 / 4, step 300 / 600, loss = 1.0526\n",
      "epoch 1 / 4, step 400 / 600, loss = 0.8962\n",
      "epoch 1 / 4, step 500 / 600, loss = 1.0875\n",
      "epoch 1 / 4, step 600 / 600, loss = 1.0949\n",
      "epoch 2 / 4, step 100 / 600, loss = 0.8431\n",
      "epoch 2 / 4, step 200 / 600, loss = 0.9403\n",
      "epoch 2 / 4, step 300 / 600, loss = 0.8881\n",
      "epoch 2 / 4, step 400 / 600, loss = 0.9172\n",
      "epoch 2 / 4, step 500 / 600, loss = 0.8443\n",
      "epoch 2 / 4, step 600 / 600, loss = 0.8965\n",
      "epoch 3 / 4, step 100 / 600, loss = 0.8895\n",
      "epoch 3 / 4, step 200 / 600, loss = 0.7740\n",
      "epoch 3 / 4, step 300 / 600, loss = 0.9590\n",
      "epoch 3 / 4, step 400 / 600, loss = 0.7906\n",
      "epoch 3 / 4, step 500 / 600, loss = 0.7024\n",
      "epoch 3 / 4, step 600 / 600, loss = 0.8421\n",
      "epoch 4 / 4, step 100 / 600, loss = 0.7703\n",
      "epoch 4 / 4, step 200 / 600, loss = 0.9224\n",
      "epoch 4 / 4, step 300 / 600, loss = 0.9428\n",
      "epoch 4 / 4, step 400 / 600, loss = 0.9563\n",
      "epoch 4 / 4, step 500 / 600, loss = 0.9217\n",
      "epoch 4 / 4, step 600 / 600, loss = 0.9674\n",
      "accuracy = 66.76 %\n",
      "\n",
      "accuracy of 0: 99.39 %\n",
      "accuracy of 1: 0.00 %\n",
      "accuracy of 2: 97.00 %\n",
      "accuracy of 3: 0.00 %\n",
      "accuracy of 4: 0.00 %\n",
      "accuracy of 5: 95.63 %\n",
      "accuracy of 6: 97.49 %\n",
      "accuracy of 7: 96.11 %\n",
      "accuracy of 8: 96.92 %\n",
      "accuracy of 9: 97.32 %\n"
     ]
    }
   ],
   "source": [
    "# hyper parameters\n",
    "input_size = 784 # 28x28\n",
    "hidden_size = 100\n",
    "num_classes = 10\n",
    "num_epochs = 4\n",
    "batch_size = 100\n",
    "learning_rate = 0.001\n",
    "\n",
    "\n",
    "# MNIST\n",
    "train_dataset = torchvision.datasets.MNIST(root='./data', train=True, transform=transforms.ToTensor(), download=True)\n",
    "test_dataset = torchvision.datasets.MNIST(root='./data', train=False, transform=transforms.ToTensor())\n",
    "\n",
    "train_loader = torch.utils.data.DataLoader(dataset=train_dataset, batch_size=batch_size, shuffle=True)\n",
    "test_loader = torch.utils.data.DataLoader(dataset=test_dataset, batch_size=batch_size, shuffle=False)\n",
    "\n",
    "classes = ('0', '1', '2', '3', '4', '5', '6', '7', '8', '9')\n",
    "n_classes = len(classes)\n",
    "\n",
    "\n",
    "# nn\n",
    "class NeuralNet(nn.Module):\n",
    "    def __init__(self, input_size, hidden_size, num_classes):\n",
    "        super(NeuralNet, self).__init__()\n",
    "        self.l1 = nn.Linear(input_size, hidden_size)\n",
    "        self.relu = nn.ReLU()\n",
    "        self.l2 = nn.Linear(hidden_size, num_classes)\n",
    "    def forward(self, x):\n",
    "        out = self.l1(x)\n",
    "        out = self.relu(out)\n",
    "        out = self.l2(out)\n",
    "        out = self.relu(out)\n",
    "        return out \n",
    "    \n",
    "model = NeuralNet(input_size, hidden_size, num_classes)\n",
    "\n",
    "\n",
    "# loss and optimiser\n",
    "criterion = nn.CrossEntropyLoss()\n",
    "optimiser = torch.optim.Adam(model.parameters(), lr=learning_rate)\n",
    "\n",
    "\n",
    "# train\n",
    "n_total_steps = len(train_loader)\n",
    "for epoch in range(num_epochs):\n",
    "    for i, (images, labels) in enumerate(train_loader):\n",
    "        \n",
    "        images = images.reshape(-1, 28*28).to(device)\n",
    "        labels = labels.to(device)\n",
    "        \n",
    "        # forward\n",
    "        outputs = model(images)\n",
    "        loss = criterion(outputs, labels)\n",
    "        \n",
    "        # backwards\n",
    "        optimiser.zero_grad()\n",
    "        loss.backward()\n",
    "        optimiser.step()\n",
    "        \n",
    "        if (i+1) % 100 == 0:\n",
    "            print(f'epoch {epoch+1} / {num_epochs}, step {i+1} / {n_total_steps}, loss = {loss.item():.4f}')\n",
    "    \n",
    "    \n",
    "# test\n",
    "with torch.no_grad():\n",
    "    n_correct = 0\n",
    "    n_samples = 0\n",
    "    n_class_correct = [0 for i in range(n_classes)]\n",
    "    n_class_samples = [0 for i in range(n_classes)]\n",
    "    \n",
    "    for images, labels in test_loader:\n",
    "        images = images.reshape(-1, 28*28).to(device)\n",
    "        labels = labels.to(device)\n",
    "        outputs = model(images)\n",
    "        \n",
    "        # max returns (value, index)\n",
    "        _, predictions = torch.max(outputs, 1)\n",
    "        n_samples += labels.shape[0]\n",
    "        n_correct += (predictions == labels).sum().item()\n",
    "        \n",
    "        for i in range(batch_size):\n",
    "            label = labels[i]\n",
    "            pred = predictions[i]\n",
    "            if (label == pred):\n",
    "                n_class_correct[label] += 1\n",
    "            n_class_samples[label] += 1\n",
    "        \n",
    "    acc = 100.0 * n_correct / n_samples\n",
    "    print(f'accuracy = {acc} %\\n')\n",
    "    \n",
    "    for i in range(n_classes):\n",
    "        acc = 100.0 * n_class_correct[i] / n_class_samples[i]\n",
    "        print(f'accuracy of {classes[i]}: {acc:.2f} %')"
   ]
  },
  {
   "cell_type": "markdown",
   "id": "b92e88e0",
   "metadata": {},
   "source": [
    "# Обучение сверточной сети на MNIST"
   ]
  },
  {
   "cell_type": "code",
   "execution_count": 5,
   "id": "ac655ae3",
   "metadata": {},
   "outputs": [
    {
     "name": "stdout",
     "output_type": "stream",
     "text": [
      "epoch 1 / 4, step 2000 / 15000, loss = 2.3078\n",
      "epoch 1 / 4, step 4000 / 15000, loss = 2.3131\n",
      "epoch 1 / 4, step 6000 / 15000, loss = 2.2610\n",
      "epoch 1 / 4, step 8000 / 15000, loss = 2.2908\n",
      "epoch 1 / 4, step 10000 / 15000, loss = 2.2062\n",
      "epoch 1 / 4, step 12000 / 15000, loss = 0.9868\n",
      "epoch 1 / 4, step 14000 / 15000, loss = 0.5448\n",
      "epoch 2 / 4, step 2000 / 15000, loss = 0.3413\n",
      "epoch 2 / 4, step 4000 / 15000, loss = 0.3989\n",
      "epoch 2 / 4, step 6000 / 15000, loss = 0.3515\n",
      "epoch 2 / 4, step 8000 / 15000, loss = 0.2581\n",
      "epoch 2 / 4, step 10000 / 15000, loss = 0.0242\n",
      "epoch 2 / 4, step 12000 / 15000, loss = 0.0628\n",
      "epoch 2 / 4, step 14000 / 15000, loss = 0.0119\n",
      "epoch 3 / 4, step 2000 / 15000, loss = 0.0251\n",
      "epoch 3 / 4, step 4000 / 15000, loss = 0.0320\n",
      "epoch 3 / 4, step 6000 / 15000, loss = 0.0019\n",
      "epoch 3 / 4, step 8000 / 15000, loss = 0.0089\n",
      "epoch 3 / 4, step 10000 / 15000, loss = 0.0233\n",
      "epoch 3 / 4, step 12000 / 15000, loss = 0.0109\n",
      "epoch 3 / 4, step 14000 / 15000, loss = 0.0224\n",
      "epoch 4 / 4, step 2000 / 15000, loss = 0.0073\n",
      "epoch 4 / 4, step 4000 / 15000, loss = 0.0056\n",
      "epoch 4 / 4, step 6000 / 15000, loss = 0.0056\n",
      "epoch 4 / 4, step 8000 / 15000, loss = 0.0076\n",
      "epoch 4 / 4, step 10000 / 15000, loss = 0.0728\n",
      "epoch 4 / 4, step 12000 / 15000, loss = 0.0173\n",
      "epoch 4 / 4, step 14000 / 15000, loss = 0.0061\n",
      "accuracy = 97.5 %\n",
      "\n",
      "accuracy of 0: 99.29 %\n",
      "accuracy of 1: 99.30 %\n",
      "accuracy of 2: 96.71 %\n",
      "accuracy of 3: 97.23 %\n",
      "accuracy of 4: 97.45 %\n",
      "accuracy of 5: 97.87 %\n",
      "accuracy of 6: 97.81 %\n",
      "accuracy of 7: 98.35 %\n",
      "accuracy of 8: 95.07 %\n",
      "accuracy of 9: 95.74 %\n"
     ]
    }
   ],
   "source": [
    "# hyper parameters\n",
    "num_epochs = 4\n",
    "batch_size = 4\n",
    "learning_rate = 0.001\n",
    "\n",
    "\n",
    "# MNIST\n",
    "train_dataset = torchvision.datasets.MNIST(root='./data', train=True, transform=transforms.ToTensor(), download=True)\n",
    "test_dataset = torchvision.datasets.MNIST(root='./data', train=False, transform=transforms.ToTensor(), download=True)\n",
    "\n",
    "train_loader = torch.utils.data.DataLoader(dataset=train_dataset, batch_size=batch_size, shuffle=True)\n",
    "test_loader = torch.utils.data.DataLoader(dataset=test_dataset, batch_size=batch_size, shuffle=False)\n",
    "\n",
    "classes = ('0', '1', '2', '3', '4', '5', '6', '7', '8', '9')\n",
    "n_classes = len(classes)\n",
    "\n",
    "\n",
    "# nn\n",
    "class ConvNet(nn.Module):\n",
    "    def __init__(self):\n",
    "        super(ConvNet, self).__init__()\n",
    "        self.conv1 = nn.Conv2d(in_channels=1, out_channels=6, kernel_size=5)\n",
    "        self.pool = nn.MaxPool2d(2, 2)\n",
    "        self.conv2 = nn.Conv2d(in_channels=6, out_channels=16, kernel_size=5)\n",
    "        self.fc1 = nn.Linear(16*4*4, 120)\n",
    "        self.fc2 = nn.Linear(120, 84)\n",
    "        self.fc3 = nn.Linear(84, 10)\n",
    "    def forward(self, x):\n",
    "        x = self.pool(F.relu(self.conv1(x)))\n",
    "        x = self.pool(F.relu(self.conv2(x)))\n",
    "        x = x.view(-1, 16*4*4)\n",
    "        x = F.relu(self.fc1(x))\n",
    "        x = F.relu(self.fc2(x))\n",
    "        x = self.fc3(x)\n",
    "        return x\n",
    "\n",
    "model = ConvNet().to(device)\n",
    "\n",
    "\n",
    "# loss and optimiser\n",
    "criterion = nn.CrossEntropyLoss()\n",
    "optimiser = torch.optim.SGD(model.parameters(), lr=learning_rate)\n",
    "\n",
    "\n",
    "# train\n",
    "n_total_steps = len(train_loader)\n",
    "for epoch in range(num_epochs):\n",
    "    \n",
    "    for i, (images, labels) in enumerate(train_loader):\n",
    "        \n",
    "        images = images.to(device)\n",
    "        labels = labels.to(device)\n",
    "        \n",
    "        # forward\n",
    "        outputs = model(images)\n",
    "        loss = criterion(outputs, labels)\n",
    "        \n",
    "        # backwards\n",
    "        optimiser.zero_grad()\n",
    "        loss.backward()\n",
    "        optimiser.step()\n",
    "        \n",
    "        if (i+1) % 2000 == 0:\n",
    "            print(f'epoch {epoch+1} / {num_epochs}, step {i+1} / {n_total_steps}, loss = {loss.item():.4f}')\n",
    "\n",
    "\n",
    "# test\n",
    "with torch.no_grad():\n",
    "    n_correct = 0\n",
    "    n_samples = 0\n",
    "    n_class_correct = [0 for i in range(n_classes)]\n",
    "    n_class_samples = [0 for i in range(n_classes)]\n",
    "    \n",
    "    for images, labels in test_loader:\n",
    "        labels = labels.to(device)\n",
    "        outputs = model(images)\n",
    "        \n",
    "        # max returns (value, index)\n",
    "        _, predictions = torch.max(outputs, 1)\n",
    "        n_samples += labels.shape[0]\n",
    "        n_correct += (predictions == labels).sum().item()\n",
    "        \n",
    "        for i in range(batch_size):\n",
    "            label = labels[i]\n",
    "            pred = predictions[i]\n",
    "            if (label == pred):\n",
    "                n_class_correct[label] += 1\n",
    "            n_class_samples[label] += 1\n",
    "        \n",
    "    acc = 100.0 * n_correct / n_samples\n",
    "    print(f'accuracy = {acc} %\\n')\n",
    "    \n",
    "    for i in range(n_classes):\n",
    "        acc = 100.0 * n_class_correct[i] / n_class_samples[i]\n",
    "        print(f'accuracy of {classes[i]}: {acc:.2f} %')"
   ]
  },
  {
   "cell_type": "code",
   "execution_count": null,
   "id": "66a2e8f0",
   "metadata": {},
   "outputs": [],
   "source": []
  }
 ],
 "metadata": {
  "kernelspec": {
   "display_name": "Python 3",
   "language": "python",
   "name": "python3"
  },
  "language_info": {
   "codemirror_mode": {
    "name": "ipython",
    "version": 3
   },
   "file_extension": ".py",
   "mimetype": "text/x-python",
   "name": "python",
   "nbconvert_exporter": "python",
   "pygments_lexer": "ipython3",
   "version": "3.8.8"
  }
 },
 "nbformat": 4,
 "nbformat_minor": 5
}

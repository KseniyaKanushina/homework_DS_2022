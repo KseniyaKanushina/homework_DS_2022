{
  "nbformat": 4,
  "nbformat_minor": 0,
  "metadata": {
    "colab": {
      "provenance": [],
      "authorship_tag": "ABX9TyMs1xwaVrV0SYNIhgR28+L6",
      "include_colab_link": true
    },
    "kernelspec": {
      "name": "python3",
      "display_name": "Python 3"
    },
    "language_info": {
      "name": "python"
    }
  },
  "cells": [
    {
      "cell_type": "markdown",
      "metadata": {
        "id": "view-in-github",
        "colab_type": "text"
      },
      "source": [
        "<a href=\"https://colab.research.google.com/github/KseniyaKanushina/homework_DS_2022/blob/main/%D0%94%D0%BE%D0%BC_%D0%B7%D0%B0%D0%B4%D0%B0%D0%BD%D0%B8%D0%B5_ML4.ipynb\" target=\"_parent\"><img src=\"https://colab.research.google.com/assets/colab-badge.svg\" alt=\"Open In Colab\"/></a>"
      ]
    },
    {
      "cell_type": "code",
      "execution_count": 1,
      "metadata": {
        "id": "LqVvAEVmgfhk"
      },
      "outputs": [],
      "source": [
        "import pandas as pd\n",
        "import numpy as np\n",
        "from sklearn.model_selection import train_test_split"
      ]
    },
    {
      "cell_type": "code",
      "source": [
        "data = pd.read_csv('winequality-red.csv', sep = ';')\n",
        "data"
      ],
      "metadata": {
        "colab": {
          "base_uri": "https://localhost:8080/",
          "height": 424
        },
        "id": "g33bvE5zgp9e",
        "outputId": "3ae33820-2f2a-4993-f883-1c5bc13c7f81"
      },
      "execution_count": 2,
      "outputs": [
        {
          "output_type": "execute_result",
          "data": {
            "text/plain": [
              "      fixed acidity  volatile acidity  citric acid  residual sugar  chlorides  \\\n",
              "0               7.4             0.700         0.00             1.9      0.076   \n",
              "1               7.8             0.880         0.00             2.6      0.098   \n",
              "2               7.8             0.760         0.04             2.3      0.092   \n",
              "3              11.2             0.280         0.56             1.9      0.075   \n",
              "4               7.4             0.700         0.00             1.9      0.076   \n",
              "...             ...               ...          ...             ...        ...   \n",
              "1594            6.2             0.600         0.08             2.0      0.090   \n",
              "1595            5.9             0.550         0.10             2.2      0.062   \n",
              "1596            6.3             0.510         0.13             2.3      0.076   \n",
              "1597            5.9             0.645         0.12             2.0      0.075   \n",
              "1598            6.0             0.310         0.47             3.6      0.067   \n",
              "\n",
              "      free sulfur dioxide  total sulfur dioxide  density    pH  sulphates  \\\n",
              "0                    11.0                  34.0  0.99780  3.51       0.56   \n",
              "1                    25.0                  67.0  0.99680  3.20       0.68   \n",
              "2                    15.0                  54.0  0.99700  3.26       0.65   \n",
              "3                    17.0                  60.0  0.99800  3.16       0.58   \n",
              "4                    11.0                  34.0  0.99780  3.51       0.56   \n",
              "...                   ...                   ...      ...   ...        ...   \n",
              "1594                 32.0                  44.0  0.99490  3.45       0.58   \n",
              "1595                 39.0                  51.0  0.99512  3.52       0.76   \n",
              "1596                 29.0                  40.0  0.99574  3.42       0.75   \n",
              "1597                 32.0                  44.0  0.99547  3.57       0.71   \n",
              "1598                 18.0                  42.0  0.99549  3.39       0.66   \n",
              "\n",
              "      alcohol  quality  \n",
              "0         9.4        5  \n",
              "1         9.8        5  \n",
              "2         9.8        5  \n",
              "3         9.8        6  \n",
              "4         9.4        5  \n",
              "...       ...      ...  \n",
              "1594     10.5        5  \n",
              "1595     11.2        6  \n",
              "1596     11.0        6  \n",
              "1597     10.2        5  \n",
              "1598     11.0        6  \n",
              "\n",
              "[1599 rows x 12 columns]"
            ],
            "text/html": [
              "\n",
              "  <div id=\"df-660086cf-e439-4157-8cdf-713825d0f58d\">\n",
              "    <div class=\"colab-df-container\">\n",
              "      <div>\n",
              "<style scoped>\n",
              "    .dataframe tbody tr th:only-of-type {\n",
              "        vertical-align: middle;\n",
              "    }\n",
              "\n",
              "    .dataframe tbody tr th {\n",
              "        vertical-align: top;\n",
              "    }\n",
              "\n",
              "    .dataframe thead th {\n",
              "        text-align: right;\n",
              "    }\n",
              "</style>\n",
              "<table border=\"1\" class=\"dataframe\">\n",
              "  <thead>\n",
              "    <tr style=\"text-align: right;\">\n",
              "      <th></th>\n",
              "      <th>fixed acidity</th>\n",
              "      <th>volatile acidity</th>\n",
              "      <th>citric acid</th>\n",
              "      <th>residual sugar</th>\n",
              "      <th>chlorides</th>\n",
              "      <th>free sulfur dioxide</th>\n",
              "      <th>total sulfur dioxide</th>\n",
              "      <th>density</th>\n",
              "      <th>pH</th>\n",
              "      <th>sulphates</th>\n",
              "      <th>alcohol</th>\n",
              "      <th>quality</th>\n",
              "    </tr>\n",
              "  </thead>\n",
              "  <tbody>\n",
              "    <tr>\n",
              "      <th>0</th>\n",
              "      <td>7.4</td>\n",
              "      <td>0.700</td>\n",
              "      <td>0.00</td>\n",
              "      <td>1.9</td>\n",
              "      <td>0.076</td>\n",
              "      <td>11.0</td>\n",
              "      <td>34.0</td>\n",
              "      <td>0.99780</td>\n",
              "      <td>3.51</td>\n",
              "      <td>0.56</td>\n",
              "      <td>9.4</td>\n",
              "      <td>5</td>\n",
              "    </tr>\n",
              "    <tr>\n",
              "      <th>1</th>\n",
              "      <td>7.8</td>\n",
              "      <td>0.880</td>\n",
              "      <td>0.00</td>\n",
              "      <td>2.6</td>\n",
              "      <td>0.098</td>\n",
              "      <td>25.0</td>\n",
              "      <td>67.0</td>\n",
              "      <td>0.99680</td>\n",
              "      <td>3.20</td>\n",
              "      <td>0.68</td>\n",
              "      <td>9.8</td>\n",
              "      <td>5</td>\n",
              "    </tr>\n",
              "    <tr>\n",
              "      <th>2</th>\n",
              "      <td>7.8</td>\n",
              "      <td>0.760</td>\n",
              "      <td>0.04</td>\n",
              "      <td>2.3</td>\n",
              "      <td>0.092</td>\n",
              "      <td>15.0</td>\n",
              "      <td>54.0</td>\n",
              "      <td>0.99700</td>\n",
              "      <td>3.26</td>\n",
              "      <td>0.65</td>\n",
              "      <td>9.8</td>\n",
              "      <td>5</td>\n",
              "    </tr>\n",
              "    <tr>\n",
              "      <th>3</th>\n",
              "      <td>11.2</td>\n",
              "      <td>0.280</td>\n",
              "      <td>0.56</td>\n",
              "      <td>1.9</td>\n",
              "      <td>0.075</td>\n",
              "      <td>17.0</td>\n",
              "      <td>60.0</td>\n",
              "      <td>0.99800</td>\n",
              "      <td>3.16</td>\n",
              "      <td>0.58</td>\n",
              "      <td>9.8</td>\n",
              "      <td>6</td>\n",
              "    </tr>\n",
              "    <tr>\n",
              "      <th>4</th>\n",
              "      <td>7.4</td>\n",
              "      <td>0.700</td>\n",
              "      <td>0.00</td>\n",
              "      <td>1.9</td>\n",
              "      <td>0.076</td>\n",
              "      <td>11.0</td>\n",
              "      <td>34.0</td>\n",
              "      <td>0.99780</td>\n",
              "      <td>3.51</td>\n",
              "      <td>0.56</td>\n",
              "      <td>9.4</td>\n",
              "      <td>5</td>\n",
              "    </tr>\n",
              "    <tr>\n",
              "      <th>...</th>\n",
              "      <td>...</td>\n",
              "      <td>...</td>\n",
              "      <td>...</td>\n",
              "      <td>...</td>\n",
              "      <td>...</td>\n",
              "      <td>...</td>\n",
              "      <td>...</td>\n",
              "      <td>...</td>\n",
              "      <td>...</td>\n",
              "      <td>...</td>\n",
              "      <td>...</td>\n",
              "      <td>...</td>\n",
              "    </tr>\n",
              "    <tr>\n",
              "      <th>1594</th>\n",
              "      <td>6.2</td>\n",
              "      <td>0.600</td>\n",
              "      <td>0.08</td>\n",
              "      <td>2.0</td>\n",
              "      <td>0.090</td>\n",
              "      <td>32.0</td>\n",
              "      <td>44.0</td>\n",
              "      <td>0.99490</td>\n",
              "      <td>3.45</td>\n",
              "      <td>0.58</td>\n",
              "      <td>10.5</td>\n",
              "      <td>5</td>\n",
              "    </tr>\n",
              "    <tr>\n",
              "      <th>1595</th>\n",
              "      <td>5.9</td>\n",
              "      <td>0.550</td>\n",
              "      <td>0.10</td>\n",
              "      <td>2.2</td>\n",
              "      <td>0.062</td>\n",
              "      <td>39.0</td>\n",
              "      <td>51.0</td>\n",
              "      <td>0.99512</td>\n",
              "      <td>3.52</td>\n",
              "      <td>0.76</td>\n",
              "      <td>11.2</td>\n",
              "      <td>6</td>\n",
              "    </tr>\n",
              "    <tr>\n",
              "      <th>1596</th>\n",
              "      <td>6.3</td>\n",
              "      <td>0.510</td>\n",
              "      <td>0.13</td>\n",
              "      <td>2.3</td>\n",
              "      <td>0.076</td>\n",
              "      <td>29.0</td>\n",
              "      <td>40.0</td>\n",
              "      <td>0.99574</td>\n",
              "      <td>3.42</td>\n",
              "      <td>0.75</td>\n",
              "      <td>11.0</td>\n",
              "      <td>6</td>\n",
              "    </tr>\n",
              "    <tr>\n",
              "      <th>1597</th>\n",
              "      <td>5.9</td>\n",
              "      <td>0.645</td>\n",
              "      <td>0.12</td>\n",
              "      <td>2.0</td>\n",
              "      <td>0.075</td>\n",
              "      <td>32.0</td>\n",
              "      <td>44.0</td>\n",
              "      <td>0.99547</td>\n",
              "      <td>3.57</td>\n",
              "      <td>0.71</td>\n",
              "      <td>10.2</td>\n",
              "      <td>5</td>\n",
              "    </tr>\n",
              "    <tr>\n",
              "      <th>1598</th>\n",
              "      <td>6.0</td>\n",
              "      <td>0.310</td>\n",
              "      <td>0.47</td>\n",
              "      <td>3.6</td>\n",
              "      <td>0.067</td>\n",
              "      <td>18.0</td>\n",
              "      <td>42.0</td>\n",
              "      <td>0.99549</td>\n",
              "      <td>3.39</td>\n",
              "      <td>0.66</td>\n",
              "      <td>11.0</td>\n",
              "      <td>6</td>\n",
              "    </tr>\n",
              "  </tbody>\n",
              "</table>\n",
              "<p>1599 rows × 12 columns</p>\n",
              "</div>\n",
              "      <button class=\"colab-df-convert\" onclick=\"convertToInteractive('df-660086cf-e439-4157-8cdf-713825d0f58d')\"\n",
              "              title=\"Convert this dataframe to an interactive table.\"\n",
              "              style=\"display:none;\">\n",
              "        \n",
              "  <svg xmlns=\"http://www.w3.org/2000/svg\" height=\"24px\"viewBox=\"0 0 24 24\"\n",
              "       width=\"24px\">\n",
              "    <path d=\"M0 0h24v24H0V0z\" fill=\"none\"/>\n",
              "    <path d=\"M18.56 5.44l.94 2.06.94-2.06 2.06-.94-2.06-.94-.94-2.06-.94 2.06-2.06.94zm-11 1L8.5 8.5l.94-2.06 2.06-.94-2.06-.94L8.5 2.5l-.94 2.06-2.06.94zm10 10l.94 2.06.94-2.06 2.06-.94-2.06-.94-.94-2.06-.94 2.06-2.06.94z\"/><path d=\"M17.41 7.96l-1.37-1.37c-.4-.4-.92-.59-1.43-.59-.52 0-1.04.2-1.43.59L10.3 9.45l-7.72 7.72c-.78.78-.78 2.05 0 2.83L4 21.41c.39.39.9.59 1.41.59.51 0 1.02-.2 1.41-.59l7.78-7.78 2.81-2.81c.8-.78.8-2.07 0-2.86zM5.41 20L4 18.59l7.72-7.72 1.47 1.35L5.41 20z\"/>\n",
              "  </svg>\n",
              "      </button>\n",
              "      \n",
              "  <style>\n",
              "    .colab-df-container {\n",
              "      display:flex;\n",
              "      flex-wrap:wrap;\n",
              "      gap: 12px;\n",
              "    }\n",
              "\n",
              "    .colab-df-convert {\n",
              "      background-color: #E8F0FE;\n",
              "      border: none;\n",
              "      border-radius: 50%;\n",
              "      cursor: pointer;\n",
              "      display: none;\n",
              "      fill: #1967D2;\n",
              "      height: 32px;\n",
              "      padding: 0 0 0 0;\n",
              "      width: 32px;\n",
              "    }\n",
              "\n",
              "    .colab-df-convert:hover {\n",
              "      background-color: #E2EBFA;\n",
              "      box-shadow: 0px 1px 2px rgba(60, 64, 67, 0.3), 0px 1px 3px 1px rgba(60, 64, 67, 0.15);\n",
              "      fill: #174EA6;\n",
              "    }\n",
              "\n",
              "    [theme=dark] .colab-df-convert {\n",
              "      background-color: #3B4455;\n",
              "      fill: #D2E3FC;\n",
              "    }\n",
              "\n",
              "    [theme=dark] .colab-df-convert:hover {\n",
              "      background-color: #434B5C;\n",
              "      box-shadow: 0px 1px 3px 1px rgba(0, 0, 0, 0.15);\n",
              "      filter: drop-shadow(0px 1px 2px rgba(0, 0, 0, 0.3));\n",
              "      fill: #FFFFFF;\n",
              "    }\n",
              "  </style>\n",
              "\n",
              "      <script>\n",
              "        const buttonEl =\n",
              "          document.querySelector('#df-660086cf-e439-4157-8cdf-713825d0f58d button.colab-df-convert');\n",
              "        buttonEl.style.display =\n",
              "          google.colab.kernel.accessAllowed ? 'block' : 'none';\n",
              "\n",
              "        async function convertToInteractive(key) {\n",
              "          const element = document.querySelector('#df-660086cf-e439-4157-8cdf-713825d0f58d');\n",
              "          const dataTable =\n",
              "            await google.colab.kernel.invokeFunction('convertToInteractive',\n",
              "                                                     [key], {});\n",
              "          if (!dataTable) return;\n",
              "\n",
              "          const docLinkHtml = 'Like what you see? Visit the ' +\n",
              "            '<a target=\"_blank\" href=https://colab.research.google.com/notebooks/data_table.ipynb>data table notebook</a>'\n",
              "            + ' to learn more about interactive tables.';\n",
              "          element.innerHTML = '';\n",
              "          dataTable['output_type'] = 'display_data';\n",
              "          await google.colab.output.renderOutput(dataTable, element);\n",
              "          const docLink = document.createElement('div');\n",
              "          docLink.innerHTML = docLinkHtml;\n",
              "          element.appendChild(docLink);\n",
              "        }\n",
              "      </script>\n",
              "    </div>\n",
              "  </div>\n",
              "  "
            ]
          },
          "metadata": {},
          "execution_count": 2
        }
      ]
    },
    {
      "cell_type": "markdown",
      "source": [
        "1.Разделите выборку на обучающую и тестовую в отношении 70%/30%"
      ],
      "metadata": {
        "id": "UfCni4iriHam"
      }
    },
    {
      "cell_type": "code",
      "source": [
        "def split_df(df, test_size=.3, size=1, seed=42):\n",
        "    df_res = df.sample(int(df.shape[0]*size)).copy() if size != 1 else df.copy()\n",
        "    X_res, y_res = df_res.iloc[:,:-1], df_res.iloc[:,-1]\n",
        "    X_res_train, X_res_test, y_res_train, y_res_test = train_test_split(X_res, y_res, test_size=test_size, random_state=seed)\n",
        "    return df_res, X_res, y_res, X_res_train, X_res_test, y_res_train, y_res_test"
      ],
      "metadata": {
        "id": "OprPs0SiiCcl"
      },
      "execution_count": 3,
      "outputs": []
    },
    {
      "cell_type": "code",
      "source": [
        "df, X, y, X_train, X_test, y_train, y_test = split_df(data)\n",
        "print(df.shape, X.shape, X_train.shape, X_test.shape)"
      ],
      "metadata": {
        "colab": {
          "base_uri": "https://localhost:8080/"
        },
        "id": "n6rtPUeeiMLG",
        "outputId": "b633cb26-354d-4fdd-b912-5e9abea59954"
      },
      "execution_count": 4,
      "outputs": [
        {
          "output_type": "stream",
          "name": "stdout",
          "text": [
            "(1599, 12) (1599, 11) (1119, 11) (480, 11)\n"
          ]
        }
      ]
    },
    {
      "cell_type": "markdown",
      "source": [
        "2.Оцените качество по метрике accuracy для классификаторов:\n",
        "\n",
        "DecisionTreeClassifier\n",
        "\n",
        "BaggingClassifier со 100 деревьями\n",
        "\n",
        "RandomForestClassifier со 100 деревьями\n",
        "\n",
        "Сравните результаты и напишите какой вывод можно сделать."
      ],
      "metadata": {
        "id": "NCca2S1WiRvm"
      }
    },
    {
      "cell_type": "code",
      "source": [
        "from sklearn.ensemble import RandomForestClassifier, BaggingClassifier\n",
        "from sklearn.tree import DecisionTreeClassifier\n",
        "from sklearn.model_selection import cross_val_score"
      ],
      "metadata": {
        "id": "0aKdPG0WiU69"
      },
      "execution_count": 5,
      "outputs": []
    },
    {
      "cell_type": "code",
      "source": [
        "X, y = data.iloc[:,:-1], data.iloc[:,-1]\n",
        "clfs = [RandomForestClassifier(n_estimators=100), BaggingClassifier(n_estimators=100), DecisionTreeClassifier()]\n",
        "\n",
        "for clf in clfs:\n",
        "    print(clf)\n",
        "    %time cvs = cross_val_score(clf, X, y, scoring='accuracy', cv=3).mean()\n",
        "    print(cvs, '\\n')"
      ],
      "metadata": {
        "colab": {
          "base_uri": "https://localhost:8080/"
        },
        "id": "dXGwSx2XiYZm",
        "outputId": "91676dc5-0e64-4d84-d1ed-ffd538c50c11"
      },
      "execution_count": 6,
      "outputs": [
        {
          "output_type": "stream",
          "name": "stdout",
          "text": [
            "RandomForestClassifier()\n",
            "CPU times: user 1.58 s, sys: 25.6 ms, total: 1.61 s\n",
            "Wall time: 2.07 s\n",
            "0.5616010006253909 \n",
            "\n",
            "BaggingClassifier(n_estimators=100)\n",
            "CPU times: user 2.22 s, sys: 12.5 ms, total: 2.23 s\n",
            "Wall time: 2.24 s\n",
            "0.5565978736710444 \n",
            "\n",
            "DecisionTreeClassifier()\n",
            "CPU times: user 41.6 ms, sys: 2 µs, total: 41.6 ms\n",
            "Wall time: 41.2 ms\n",
            "0.4540337711069418 \n",
            "\n"
          ]
        }
      ]
    },
    {
      "cell_type": "markdown",
      "source": [
        "Лучший результат по метрике accuracy у RandomForestClassifier, у BaggingClassifier чуть ниже, но скорость обучения дольше."
      ],
      "metadata": {
        "id": "60SWSj9XimSF"
      }
    },
    {
      "cell_type": "markdown",
      "source": [
        "3.Посчитайте качество на тестовой выборке по метрике accuracy для классификатора RandomForestClassifier, используя значения деревьев:\n",
        "\n",
        "10, 50, 100, 200, далее с шагом 200 до 5000 деревьев. Постройте график зависимости качества от числа деревьев."
      ],
      "metadata": {
        "id": "opEo9WeNi7Jd"
      }
    },
    {
      "cell_type": "code",
      "source": [
        "from matplotlib import pyplot as plt"
      ],
      "metadata": {
        "id": "9dWT7ZLVkHh4"
      },
      "execution_count": 7,
      "outputs": []
    },
    {
      "cell_type": "code",
      "source": [
        "%%time\n",
        "N = [10, 50, 100] + [n for n in range(200,5001,200)]\n",
        "scores = []\n",
        "\n",
        "for n in N:\n",
        "    clf = RandomForestClassifier(n_estimators=int(n), n_jobs=-1)\n",
        "    clf.fit(X_train, y_train)\n",
        "    score_test = clf.score(X_test, y_test)\n",
        "    score_train = clf.score(X_train, y_train)\n",
        "    scores.append({'n':int(n), 'score_test':score_test, 'score_train':score_train})"
      ],
      "metadata": {
        "colab": {
          "base_uri": "https://localhost:8080/"
        },
        "id": "Apdx3gNwkOp2",
        "outputId": "3d84c5bc-f21e-4fdb-dabd-eeff8e4fb594"
      },
      "execution_count": 8,
      "outputs": [
        {
          "output_type": "stream",
          "name": "stdout",
          "text": [
            "CPU times: user 6min, sys: 30.9 s, total: 6min 31s\n",
            "Wall time: 4min 36s\n"
          ]
        }
      ]
    },
    {
      "cell_type": "code",
      "source": [
        "scores_df = pd.DataFrame(scores)\n",
        "\n",
        "plt.plot(scores_df.n, scores_df.score_test)\n",
        "#plt.plot(scores_df.n, scores_df.score_train)"
      ],
      "metadata": {
        "colab": {
          "base_uri": "https://localhost:8080/",
          "height": 282
        },
        "id": "BxCfbs-MkyNv",
        "outputId": "f7ac64bd-2808-4e85-fcc6-19a10bb5ac96"
      },
      "execution_count": 9,
      "outputs": [
        {
          "output_type": "execute_result",
          "data": {
            "text/plain": [
              "[<matplotlib.lines.Line2D at 0x7f5eab7a6fd0>]"
            ]
          },
          "metadata": {},
          "execution_count": 9
        },
        {
          "output_type": "display_data",
          "data": {
            "text/plain": [
              "<Figure size 432x288 with 1 Axes>"
            ],
            "image/png": "[encoded data removed]"
          },
          "metadata": {
            "needs_background": "light"
          }
        }
      ]
    },
    {
      "cell_type": "markdown",
      "source": [
        "4.Обучите реализации градиентного бустинга с параметрами по умолчанию из библиотек sklearn и xgboost. Сравните значение метрики accuracy по cross_val_score"
      ],
      "metadata": {
        "id": "zPVhigFulfBY"
      }
    },
    {
      "cell_type": "code",
      "source": [
        "from sklearn.ensemble import GradientBoostingClassifier\n",
        "from xgboost import XGBClassifier"
      ],
      "metadata": {
        "id": "szTAtc1nliYX"
      },
      "execution_count": 10,
      "outputs": []
    },
    {
      "cell_type": "code",
      "source": [
        "import warnings\n",
        "warnings.filterwarnings('ignore')"
      ],
      "metadata": {
        "id": "tadYKnzilm0R"
      },
      "execution_count": 11,
      "outputs": []
    },
    {
      "cell_type": "code",
      "source": [
        "X, y = data.iloc[:,:-1], data.iloc[:,-1]\n",
        "clfs = [{'name':'GradientBoostingClassifier', 'model':GradientBoostingClassifier()}, \n",
        "        {'name':'XGBClassifier', 'model':XGBClassifier(objective='multi:softprob', eval_metric='mlogloss')}]\n",
        "\n",
        "for clf in clfs:\n",
        "    clf_name = clf['name']\n",
        "    model = clf['model']\n",
        "    print(clf_name)\n",
        "    %time cvs = cross_val_score(model, X, y, scoring=\"accuracy\", cv=5).mean()\n",
        "    print(cvs, '\\n')"
      ],
      "metadata": {
        "colab": {
          "base_uri": "https://localhost:8080/"
        },
        "id": "0jmFHx9FlprX",
        "outputId": "6229ca2c-ad8b-4f98-9840-067513333767"
      },
      "execution_count": 12,
      "outputs": [
        {
          "output_type": "stream",
          "name": "stdout",
          "text": [
            "GradientBoostingClassifier\n",
            "CPU times: user 11.2 s, sys: 50.7 ms, total: 11.2 s\n",
            "Wall time: 11.3 s\n",
            "0.5622257053291536 \n",
            "\n",
            "XGBClassifier\n",
            "CPU times: user 2.22 s, sys: 11.5 ms, total: 2.24 s\n",
            "Wall time: 2.33 s\n",
            "0.5690987460815047 \n",
            "\n"
          ]
        }
      ]
    },
    {
      "cell_type": "markdown",
      "source": [
        "5.Подберите оптимальные параметры этих алгоритмов с помощью GridSearchCV(cv=3). Параметры для оптимизации:\n",
        "\n",
        "скорость обучения\n",
        "\n",
        "количество деревьев\n",
        "\n",
        "глубина деревьев\n",
        "\n",
        "Сравните значение метрики accuracy и скорость работы. Выведите лучшие параметры алгоритмов."
      ],
      "metadata": {
        "id": "g2YuhKG8lw8Y"
      }
    },
    {
      "cell_type": "code",
      "source": [
        "from sklearn.model_selection import GridSearchCV"
      ],
      "metadata": {
        "id": "jfOMw3Aily_B"
      },
      "execution_count": 13,
      "outputs": []
    },
    {
      "cell_type": "code",
      "source": [
        "GradientBoostingClassifier().get_params().keys()"
      ],
      "metadata": {
        "colab": {
          "base_uri": "https://localhost:8080/"
        },
        "id": "v0jsVfQ6l17A",
        "outputId": "9254bfa0-a3ac-409b-ef40-cc3cf159e9bb"
      },
      "execution_count": 14,
      "outputs": [
        {
          "output_type": "execute_result",
          "data": {
            "text/plain": [
              "dict_keys(['ccp_alpha', 'criterion', 'init', 'learning_rate', 'loss', 'max_depth', 'max_features', 'max_leaf_nodes', 'min_impurity_decrease', 'min_samples_leaf', 'min_samples_split', 'min_weight_fraction_leaf', 'n_estimators', 'n_iter_no_change', 'random_state', 'subsample', 'tol', 'validation_fraction', 'verbose', 'warm_start'])"
            ]
          },
          "metadata": {},
          "execution_count": 14
        }
      ]
    },
    {
      "cell_type": "code",
      "source": [
        "XGBClassifier().get_params().keys()"
      ],
      "metadata": {
        "colab": {
          "base_uri": "https://localhost:8080/"
        },
        "id": "1KusrPsHl4nw",
        "outputId": "d90c959c-98d0-4357-ef40-2910c228a2d5"
      },
      "execution_count": 15,
      "outputs": [
        {
          "output_type": "execute_result",
          "data": {
            "text/plain": [
              "dict_keys(['base_score', 'booster', 'colsample_bylevel', 'colsample_bynode', 'colsample_bytree', 'gamma', 'learning_rate', 'max_delta_step', 'max_depth', 'min_child_weight', 'missing', 'n_estimators', 'n_jobs', 'nthread', 'objective', 'random_state', 'reg_alpha', 'reg_lambda', 'scale_pos_weight', 'seed', 'silent', 'subsample', 'verbosity'])"
            ]
          },
          "metadata": {},
          "execution_count": 15
        }
      ]
    },
    {
      "cell_type": "code",
      "source": [
        "models = [\n",
        "    {\n",
        "        'clf': GradientBoostingClassifier,\n",
        "        'params': [{\n",
        "            'learning_rate': [.1, .5, .9],\n",
        "            'n_estimators': [10, 20, 30], \n",
        "            'max_depth': [2, 3, 4]\n",
        "        }]\n",
        "    }, {\n",
        "        'clf': XGBClassifier,\n",
        "        'params': [{\n",
        "            'objective': ['multi:softprob'],\n",
        "            'eval_metric': ['mlogloss', 'mae'],\n",
        "            'learning_rate': [.1, .5, .9],\n",
        "            'n_estimators': [10, 20, 30],  \n",
        "            'max_depth': [2, 3, 4]\n",
        "        }]\n",
        "    }\n",
        "]\n",
        "\n",
        "cv_dfs = []\n",
        "\n",
        "for model in models:\n",
        "    clf_name = model['clf'].__name__\n",
        "    clf = model['clf']\n",
        "    params = model['params']\n",
        "    %time search = GridSearchCV(clf(), param_grid=params, scoring='accuracy', cv=3, n_jobs=-1).fit(X, y)\n",
        "    cv_df = pd.DataFrame(search.cv_results_)\n",
        "    cv_df['clf_name'] = clf_name\n",
        "    cv_dfs.append(cv_df)\n",
        "    print(clf_name)\n",
        "    print(search.best_params_)"
      ],
      "metadata": {
        "colab": {
          "base_uri": "https://localhost:8080/"
        },
        "id": "74MNEoEJl7Pw",
        "outputId": "37ad2f6d-8ae5-4e76-cf57-eac62bbbee84"
      },
      "execution_count": 16,
      "outputs": [
        {
          "output_type": "stream",
          "name": "stdout",
          "text": [
            "CPU times: user 1.44 s, sys: 124 ms, total: 1.56 s\n",
            "Wall time: 26.4 s\n",
            "GradientBoostingClassifier\n",
            "{'learning_rate': 0.1, 'max_depth': 3, 'n_estimators': 30}\n",
            "CPU times: user 705 ms, sys: 32.8 ms, total: 738 ms\n",
            "Wall time: 11 s\n",
            "XGBClassifier\n",
            "{'eval_metric': 'mlogloss', 'learning_rate': 0.1, 'max_depth': 4, 'n_estimators': 20, 'objective': 'multi:softprob'}\n"
          ]
        }
      ]
    },
    {
      "cell_type": "code",
      "source": [
        "cvs_df = pd.concat(cv_dfs).reset_index(drop=True)\n",
        "best_models = cvs_df[\n",
        "        (cvs_df.mean_fit_time == cvs_df.mean_fit_time.min()) |\n",
        "        #(cvs_df.mean_score_time == cvs_df.mean_score_time.min()) | \n",
        "        (cvs_df.mean_test_score == cvs_df.mean_test_score.max())]\n",
        "best_models = best_models[[\n",
        "        'clf_name',\n",
        "        'mean_test_score',\n",
        "        'mean_fit_time',\n",
        "        'mean_score_time',\n",
        "        'param_learning_rate',\n",
        "        'param_max_depth',\n",
        "        'param_n_estimators',\n",
        "        'param_eval_metric'\n",
        "]]\n",
        "best_models"
      ],
      "metadata": {
        "colab": {
          "base_uri": "https://localhost:8080/",
          "height": 143
        },
        "id": "AAEk4i1lmNHp",
        "outputId": "d6cd82df-3890-406c-db9e-52e6fa1c2281"
      },
      "execution_count": 17,
      "outputs": [
        {
          "output_type": "execute_result",
          "data": {
            "text/plain": [
              "         clf_name  mean_test_score  mean_fit_time  mean_score_time  \\\n",
              "34  XGBClassifier         0.585991       0.168961         0.005377   \n",
              "61  XGBClassifier         0.585991       0.166320         0.005362   \n",
              "63  XGBClassifier         0.557849       0.049527         0.003094   \n",
              "\n",
              "   param_learning_rate param_max_depth param_n_estimators param_eval_metric  \n",
              "34                 0.1               4                 20          mlogloss  \n",
              "61                 0.1               4                 20               mae  \n",
              "63                 0.5               2                 10               mae  "
            ],
            "text/html": [
              "\n",
              "  <div id=\"df-09eef2c4-12be-4c4b-bcf6-3449f85a165d\">\n",
              "    <div class=\"colab-df-container\">\n",
              "      <div>\n",
              "<style scoped>\n",
              "    .dataframe tbody tr th:only-of-type {\n",
              "        vertical-align: middle;\n",
              "    }\n",
              "\n",
              "    .dataframe tbody tr th {\n",
              "        vertical-align: top;\n",
              "    }\n",
              "\n",
              "    .dataframe thead th {\n",
              "        text-align: right;\n",
              "    }\n",
              "</style>\n",
              "<table border=\"1\" class=\"dataframe\">\n",
              "  <thead>\n",
              "    <tr style=\"text-align: right;\">\n",
              "      <th></th>\n",
              "      <th>clf_name</th>\n",
              "      <th>mean_test_score</th>\n",
              "      <th>mean_fit_time</th>\n",
              "      <th>mean_score_time</th>\n",
              "      <th>param_learning_rate</th>\n",
              "      <th>param_max_depth</th>\n",
              "      <th>param_n_estimators</th>\n",
              "      <th>param_eval_metric</th>\n",
              "    </tr>\n",
              "  </thead>\n",
              "  <tbody>\n",
              "    <tr>\n",
              "      <th>34</th>\n",
              "      <td>XGBClassifier</td>\n",
              "      <td>0.585991</td>\n",
              "      <td>0.168961</td>\n",
              "      <td>0.005377</td>\n",
              "      <td>0.1</td>\n",
              "      <td>4</td>\n",
              "      <td>20</td>\n",
              "      <td>mlogloss</td>\n",
              "    </tr>\n",
              "    <tr>\n",
              "      <th>61</th>\n",
              "      <td>XGBClassifier</td>\n",
              "      <td>0.585991</td>\n",
              "      <td>0.166320</td>\n",
              "      <td>0.005362</td>\n",
              "      <td>0.1</td>\n",
              "      <td>4</td>\n",
              "      <td>20</td>\n",
              "      <td>mae</td>\n",
              "    </tr>\n",
              "    <tr>\n",
              "      <th>63</th>\n",
              "      <td>XGBClassifier</td>\n",
              "      <td>0.557849</td>\n",
              "      <td>0.049527</td>\n",
              "      <td>0.003094</td>\n",
              "      <td>0.5</td>\n",
              "      <td>2</td>\n",
              "      <td>10</td>\n",
              "      <td>mae</td>\n",
              "    </tr>\n",
              "  </tbody>\n",
              "</table>\n",
              "</div>\n",
              "      <button class=\"colab-df-convert\" onclick=\"convertToInteractive('df-09eef2c4-12be-4c4b-bcf6-3449f85a165d')\"\n",
              "              title=\"Convert this dataframe to an interactive table.\"\n",
              "              style=\"display:none;\">\n",
              "        \n",
              "  <svg xmlns=\"http://www.w3.org/2000/svg\" height=\"24px\"viewBox=\"0 0 24 24\"\n",
              "       width=\"24px\">\n",
              "    <path d=\"M0 0h24v24H0V0z\" fill=\"none\"/>\n",
              "    <path d=\"M18.56 5.44l.94 2.06.94-2.06 2.06-.94-2.06-.94-.94-2.06-.94 2.06-2.06.94zm-11 1L8.5 8.5l.94-2.06 2.06-.94-2.06-.94L8.5 2.5l-.94 2.06-2.06.94zm10 10l.94 2.06.94-2.06 2.06-.94-2.06-.94-.94-2.06-.94 2.06-2.06.94z\"/><path d=\"M17.41 7.96l-1.37-1.37c-.4-.4-.92-.59-1.43-.59-.52 0-1.04.2-1.43.59L10.3 9.45l-7.72 7.72c-.78.78-.78 2.05 0 2.83L4 21.41c.39.39.9.59 1.41.59.51 0 1.02-.2 1.41-.59l7.78-7.78 2.81-2.81c.8-.78.8-2.07 0-2.86zM5.41 20L4 18.59l7.72-7.72 1.47 1.35L5.41 20z\"/>\n",
              "  </svg>\n",
              "      </button>\n",
              "      \n",
              "  <style>\n",
              "    .colab-df-container {\n",
              "      display:flex;\n",
              "      flex-wrap:wrap;\n",
              "      gap: 12px;\n",
              "    }\n",
              "\n",
              "    .colab-df-convert {\n",
              "      background-color: #E8F0FE;\n",
              "      border: none;\n",
              "      border-radius: 50%;\n",
              "      cursor: pointer;\n",
              "      display: none;\n",
              "      fill: #1967D2;\n",
              "      height: 32px;\n",
              "      padding: 0 0 0 0;\n",
              "      width: 32px;\n",
              "    }\n",
              "\n",
              "    .colab-df-convert:hover {\n",
              "      background-color: #E2EBFA;\n",
              "      box-shadow: 0px 1px 2px rgba(60, 64, 67, 0.3), 0px 1px 3px 1px rgba(60, 64, 67, 0.15);\n",
              "      fill: #174EA6;\n",
              "    }\n",
              "\n",
              "    [theme=dark] .colab-df-convert {\n",
              "      background-color: #3B4455;\n",
              "      fill: #D2E3FC;\n",
              "    }\n",
              "\n",
              "    [theme=dark] .colab-df-convert:hover {\n",
              "      background-color: #434B5C;\n",
              "      box-shadow: 0px 1px 3px 1px rgba(0, 0, 0, 0.15);\n",
              "      filter: drop-shadow(0px 1px 2px rgba(0, 0, 0, 0.3));\n",
              "      fill: #FFFFFF;\n",
              "    }\n",
              "  </style>\n",
              "\n",
              "      <script>\n",
              "        const buttonEl =\n",
              "          document.querySelector('#df-09eef2c4-12be-4c4b-bcf6-3449f85a165d button.colab-df-convert');\n",
              "        buttonEl.style.display =\n",
              "          google.colab.kernel.accessAllowed ? 'block' : 'none';\n",
              "\n",
              "        async function convertToInteractive(key) {\n",
              "          const element = document.querySelector('#df-09eef2c4-12be-4c4b-bcf6-3449f85a165d');\n",
              "          const dataTable =\n",
              "            await google.colab.kernel.invokeFunction('convertToInteractive',\n",
              "                                                     [key], {});\n",
              "          if (!dataTable) return;\n",
              "\n",
              "          const docLinkHtml = 'Like what you see? Visit the ' +\n",
              "            '<a target=\"_blank\" href=https://colab.research.google.com/notebooks/data_table.ipynb>data table notebook</a>'\n",
              "            + ' to learn more about interactive tables.';\n",
              "          element.innerHTML = '';\n",
              "          dataTable['output_type'] = 'display_data';\n",
              "          await google.colab.output.renderOutput(dataTable, element);\n",
              "          const docLink = document.createElement('div');\n",
              "          docLink.innerHTML = docLinkHtml;\n",
              "          element.appendChild(docLink);\n",
              "        }\n",
              "      </script>\n",
              "    </div>\n",
              "  </div>\n",
              "  "
            ]
          },
          "metadata": {},
          "execution_count": 17
        }
      ]
    },
    {
      "cell_type": "markdown",
      "source": [
        "6.Обучите реализации градиентного бустинга с параметрами по умолчанию из библиотек lightgbm и catboost. Сравните значение метрики accuracy по cross_val_score по всем четырем реализациям."
      ],
      "metadata": {
        "id": "JwqqZeucmdj6"
      }
    },
    {
      "cell_type": "code",
      "source": [
        "!pip install catboost"
      ],
      "metadata": {
        "id": "IT7Ki4pvmsJ6"
      },
      "execution_count": null,
      "outputs": []
    },
    {
      "cell_type": "code",
      "source": [
        "from lightgbm import LGBMClassifier\n",
        "from catboost import CatBoostClassifier"
      ],
      "metadata": {
        "id": "VZ16_of-mea7"
      },
      "execution_count": 19,
      "outputs": []
    },
    {
      "cell_type": "code",
      "source": [
        "model = GradientBoostingClassifier\n",
        "print(model.__name__, '\\n')\n",
        "      \n",
        "%time cvs = cross_val_score(model(), X, y, scoring=\"accuracy\", cv=3).mean()\n",
        "print('cross_val_score - ', cvs, '\\n')"
      ],
      "metadata": {
        "colab": {
          "base_uri": "https://localhost:8080/"
        },
        "id": "CNY-p1vsm4MB",
        "outputId": "8396fe8d-745b-4925-cb47-5bdefbc737d2"
      },
      "execution_count": 20,
      "outputs": [
        {
          "output_type": "stream",
          "name": "stdout",
          "text": [
            "GradientBoostingClassifier \n",
            "\n",
            "CPU times: user 8.83 s, sys: 50.4 ms, total: 8.88 s\n",
            "Wall time: 13.5 s\n",
            "cross_val_score -  0.5378361475922451 \n",
            "\n"
          ]
        }
      ]
    },
    {
      "cell_type": "code",
      "source": [
        "model = XGBClassifier\n",
        "print(model.__name__, '\\n')\n",
        "      \n",
        "%time cvs = cross_val_score(model(objective='multi:softprob', eval_metric='mlogloss'), X, y, scoring=\"accuracy\", cv=3).mean()\n",
        "print('cross_val_score - ', cvs, '\\n')"
      ],
      "metadata": {
        "colab": {
          "base_uri": "https://localhost:8080/"
        },
        "id": "J4p4TeXBnxjJ",
        "outputId": "2ea008f0-6dc0-4fe7-99bb-41d8c7187e4b"
      },
      "execution_count": 21,
      "outputs": [
        {
          "output_type": "stream",
          "name": "stdout",
          "text": [
            "XGBClassifier \n",
            "\n",
            "CPU times: user 1.16 s, sys: 4.76 ms, total: 1.17 s\n",
            "Wall time: 1.17 s\n",
            "cross_val_score -  0.5484677923702314 \n",
            "\n"
          ]
        }
      ]
    },
    {
      "cell_type": "code",
      "source": [
        "model = LGBMClassifier\n",
        "print(model.__name__, '\\n')\n",
        "      \n",
        "%time cvs = cross_val_score(model(), X, y, scoring=\"accuracy\", cv=3).mean()\n",
        "print('cross_val_score - ', cvs, '\\n')"
      ],
      "metadata": {
        "colab": {
          "base_uri": "https://localhost:8080/"
        },
        "id": "u47qGyUun8SZ",
        "outputId": "69f103b7-fb96-464b-f3f9-c1d519d582ea"
      },
      "execution_count": 22,
      "outputs": [
        {
          "output_type": "stream",
          "name": "stdout",
          "text": [
            "LGBMClassifier \n",
            "\n",
            "CPU times: user 2 s, sys: 103 ms, total: 2.11 s\n",
            "Wall time: 2.23 s\n",
            "cross_val_score -  0.5397123202001252 \n",
            "\n"
          ]
        }
      ]
    },
    {
      "cell_type": "code",
      "source": [
        "model = CatBoostClassifier\n",
        "print(model.__name__, '\\n')\n",
        "      \n",
        "%time cvs = cross_val_score(model(verbose=False), X, y, scoring=\"accuracy\", cv=3).mean()\n",
        "print('cross_val_score - ', cvs, '\\n')"
      ],
      "metadata": {
        "colab": {
          "base_uri": "https://localhost:8080/"
        },
        "id": "xvhVfD6EosSi",
        "outputId": "c4312c9d-20a0-49ee-de1e-6825c6c691e9"
      },
      "execution_count": 23,
      "outputs": [
        {
          "output_type": "stream",
          "name": "stdout",
          "text": [
            "CatBoostClassifier \n",
            "\n",
            "CPU times: user 37.1 s, sys: 4.54 s, total: 41.6 s\n",
            "Wall time: 32 s\n",
            "cross_val_score -  0.5328330206378987 \n",
            "\n"
          ]
        }
      ]
    },
    {
      "cell_type": "markdown",
      "source": [
        "7.Подберите оптимальные параметры для алгоритмов градиентного бустинга из библиотек lightgbm и catboost с теми же условиями. Выведите лучшие параметры алгоритмов. Сравните значение метрики accuracy и скорость по этим четырем реализациям."
      ],
      "metadata": {
        "id": "QXnT2pwIo_Uk"
      }
    },
    {
      "cell_type": "code",
      "source": [
        "LGBMClassifier().get_params().keys()"
      ],
      "metadata": {
        "colab": {
          "base_uri": "https://localhost:8080/"
        },
        "id": "7ekTbjGpq5k8",
        "outputId": "ab813f0f-6f7e-43be-f3e7-505b5e5692c2"
      },
      "execution_count": 24,
      "outputs": [
        {
          "output_type": "execute_result",
          "data": {
            "text/plain": [
              "dict_keys(['boosting_type', 'class_weight', 'colsample_bytree', 'importance_type', 'learning_rate', 'max_depth', 'min_child_samples', 'min_child_weight', 'min_split_gain', 'n_estimators', 'n_jobs', 'num_leaves', 'objective', 'random_state', 'reg_alpha', 'reg_lambda', 'silent', 'subsample', 'subsample_for_bin', 'subsample_freq'])"
            ]
          },
          "metadata": {},
          "execution_count": 24
        }
      ]
    },
    {
      "cell_type": "code",
      "source": [
        "CatBoostClassifier(verbose=False).fit(X,y).get_all_params()"
      ],
      "metadata": {
        "colab": {
          "base_uri": "https://localhost:8080/"
        },
        "id": "NIg_V3rMrBsc",
        "outputId": "330ae8b4-640e-456d-d856-17e4aac5428e"
      },
      "execution_count": 25,
      "outputs": [
        {
          "output_type": "execute_result",
          "data": {
            "text/plain": [
              "{'nan_mode': 'Min',\n",
              " 'eval_metric': 'MultiClass',\n",
              " 'iterations': 1000,\n",
              " 'sampling_frequency': 'PerTree',\n",
              " 'leaf_estimation_method': 'Newton',\n",
              " 'grow_policy': 'SymmetricTree',\n",
              " 'penalties_coefficient': 1,\n",
              " 'boosting_type': 'Plain',\n",
              " 'model_shrink_mode': 'Constant',\n",
              " 'feature_border_type': 'GreedyLogSum',\n",
              " 'bayesian_matrix_reg': 0.10000000149011612,\n",
              " 'eval_fraction': 0,\n",
              " 'force_unit_auto_pair_weights': False,\n",
              " 'l2_leaf_reg': 3,\n",
              " 'random_strength': 1,\n",
              " 'rsm': 1,\n",
              " 'boost_from_average': False,\n",
              " 'model_size_reg': 0.5,\n",
              " 'pool_metainfo_options': {'tags': {}},\n",
              " 'use_best_model': False,\n",
              " 'class_names': [3, 4, 5, 6, 7, 8],\n",
              " 'random_seed': 0,\n",
              " 'depth': 6,\n",
              " 'posterior_sampling': False,\n",
              " 'border_count': 254,\n",
              " 'bagging_temperature': 1,\n",
              " 'classes_count': 0,\n",
              " 'auto_class_weights': 'None',\n",
              " 'sparse_features_conflict_fraction': 0,\n",
              " 'leaf_estimation_backtracking': 'AnyImprovement',\n",
              " 'best_model_min_trees': 1,\n",
              " 'model_shrink_rate': 0,\n",
              " 'min_data_in_leaf': 1,\n",
              " 'loss_function': 'MultiClass',\n",
              " 'learning_rate': 0.08104400336742401,\n",
              " 'score_function': 'Cosine',\n",
              " 'task_type': 'CPU',\n",
              " 'leaf_estimation_iterations': 1,\n",
              " 'bootstrap_type': 'Bayesian',\n",
              " 'max_leaves': 64}"
            ]
          },
          "metadata": {},
          "execution_count": 25
        }
      ]
    },
    {
      "cell_type": "code",
      "source": [
        "models = [\n",
        "    {\n",
        "        'clf': LGBMClassifier,\n",
        "        'params': [{\n",
        "            'objective': ['multi:softprob'],\n",
        "            'eval_metric': ['mlogloss', 'mae'],\n",
        "            'learning_rate': [.1, .5, .9],\n",
        "            'n_estimators': [10, 20, 30],  \n",
        "            'max_depth': [2, 3, 4]}]\n",
        "    }, {\n",
        "        'clf': CatBoostClassifier,\n",
        "        'params': [{\n",
        "            'loss_function': ['MultiClass'],\n",
        "            'eval_metric': ['MultiClass'],\n",
        "            'learning_rate': [.1, .5, .9],\n",
        "            'n_estimators': [10, 20, 30],  \n",
        "            'max_depth': [2, 3, 4],\n",
        "            'verbose': [False]}]\n",
        "    }\n",
        "]\n",
        "\n",
        "cv_dfs = []\n",
        "\n",
        "for model in models:\n",
        "    clf_name = model['clf'].__name__\n",
        "    clf = model['clf']\n",
        "    params = model['params']\n",
        "    %time search = GridSearchCV(clf(), param_grid=params, scoring='accuracy', cv=3, n_jobs=-1).fit(X, y)\n",
        "    cv_df = pd.DataFrame(search.cv_results_)\n",
        "    cv_df['clf_name'] = clf_name\n",
        "    cv_dfs.append(cv_df)\n",
        "    print(clf_name)\n",
        "    print(search.best_params_, '\\n')"
      ],
      "metadata": {
        "colab": {
          "base_uri": "https://localhost:8080/"
        },
        "id": "EEMMv-3OrK-c",
        "outputId": "ba906d3e-a618-46c1-88fb-2c3b17b9bc86"
      },
      "execution_count": 26,
      "outputs": [
        {
          "output_type": "stream",
          "name": "stdout",
          "text": [
            "CPU times: user 477 ms, sys: 23.3 ms, total: 500 ms\n",
            "Wall time: 5.59 s\n",
            "LGBMClassifier\n",
            "{'eval_metric': 'mlogloss', 'learning_rate': 0.1, 'max_depth': 4, 'n_estimators': 20, 'objective': 'multi:softprob'} \n",
            "\n",
            "CPU times: user 630 ms, sys: 32.3 ms, total: 662 ms\n",
            "Wall time: 5.97 s\n",
            "CatBoostClassifier\n",
            "{'eval_metric': 'MultiClass', 'learning_rate': 0.1, 'loss_function': 'MultiClass', 'max_depth': 4, 'n_estimators': 30, 'verbose': False} \n",
            "\n"
          ]
        }
      ]
    },
    {
      "cell_type": "code",
      "source": [
        "cvs_df = pd.concat(cv_dfs).reset_index(drop=True)\n",
        "best_models = cvs_df[\n",
        "        (cvs_df.mean_fit_time == cvs_df.mean_fit_time.min()) |\n",
        "        #(cvs_df.mean_score_time == cvs_df.mean_score_time.min()) | \n",
        "        (cvs_df.mean_test_score == cvs_df.mean_test_score.max())]\n",
        "best_models = best_models[[\n",
        "        'clf_name',\n",
        "        'mean_test_score',\n",
        "        'mean_fit_time',\n",
        "        'mean_score_time',\n",
        "        'param_learning_rate',\n",
        "        'param_max_depth',\n",
        "        'param_n_estimators',\n",
        "        'param_eval_metric'\n",
        "]]\n",
        "best_models"
      ],
      "metadata": {
        "colab": {
          "base_uri": "https://localhost:8080/",
          "height": 112
        },
        "id": "i5TRhaNxrVHN",
        "outputId": "cf730923-2d9a-4a0a-f1b9-fa8a0ae872aa"
      },
      "execution_count": 27,
      "outputs": [
        {
          "output_type": "execute_result",
          "data": {
            "text/plain": [
              "              clf_name  mean_test_score  mean_fit_time  mean_score_time  \\\n",
              "36      LGBMClassifier         0.567230       0.024770         0.004561   \n",
              "62  CatBoostClassifier         0.587867       0.190102         0.003908   \n",
              "\n",
              "   param_learning_rate param_max_depth param_n_estimators param_eval_metric  \n",
              "36                 0.5               2                 10               mae  \n",
              "62                 0.1               4                 30        MultiClass  "
            ],
            "text/html": [
              "\n",
              "  <div id=\"df-531c1aed-9641-49a9-b3c8-cbce390ebc8e\">\n",
              "    <div class=\"colab-df-container\">\n",
              "      <div>\n",
              "<style scoped>\n",
              "    .dataframe tbody tr th:only-of-type {\n",
              "        vertical-align: middle;\n",
              "    }\n",
              "\n",
              "    .dataframe tbody tr th {\n",
              "        vertical-align: top;\n",
              "    }\n",
              "\n",
              "    .dataframe thead th {\n",
              "        text-align: right;\n",
              "    }\n",
              "</style>\n",
              "<table border=\"1\" class=\"dataframe\">\n",
              "  <thead>\n",
              "    <tr style=\"text-align: right;\">\n",
              "      <th></th>\n",
              "      <th>clf_name</th>\n",
              "      <th>mean_test_score</th>\n",
              "      <th>mean_fit_time</th>\n",
              "      <th>mean_score_time</th>\n",
              "      <th>param_learning_rate</th>\n",
              "      <th>param_max_depth</th>\n",
              "      <th>param_n_estimators</th>\n",
              "      <th>param_eval_metric</th>\n",
              "    </tr>\n",
              "  </thead>\n",
              "  <tbody>\n",
              "    <tr>\n",
              "      <th>36</th>\n",
              "      <td>LGBMClassifier</td>\n",
              "      <td>0.567230</td>\n",
              "      <td>0.024770</td>\n",
              "      <td>0.004561</td>\n",
              "      <td>0.5</td>\n",
              "      <td>2</td>\n",
              "      <td>10</td>\n",
              "      <td>mae</td>\n",
              "    </tr>\n",
              "    <tr>\n",
              "      <th>62</th>\n",
              "      <td>CatBoostClassifier</td>\n",
              "      <td>0.587867</td>\n",
              "      <td>0.190102</td>\n",
              "      <td>0.003908</td>\n",
              "      <td>0.1</td>\n",
              "      <td>4</td>\n",
              "      <td>30</td>\n",
              "      <td>MultiClass</td>\n",
              "    </tr>\n",
              "  </tbody>\n",
              "</table>\n",
              "</div>\n",
              "      <button class=\"colab-df-convert\" onclick=\"convertToInteractive('df-531c1aed-9641-49a9-b3c8-cbce390ebc8e')\"\n",
              "              title=\"Convert this dataframe to an interactive table.\"\n",
              "              style=\"display:none;\">\n",
              "        \n",
              "  <svg xmlns=\"http://www.w3.org/2000/svg\" height=\"24px\"viewBox=\"0 0 24 24\"\n",
              "       width=\"24px\">\n",
              "    <path d=\"M0 0h24v24H0V0z\" fill=\"none\"/>\n",
              "    <path d=\"M18.56 5.44l.94 2.06.94-2.06 2.06-.94-2.06-.94-.94-2.06-.94 2.06-2.06.94zm-11 1L8.5 8.5l.94-2.06 2.06-.94-2.06-.94L8.5 2.5l-.94 2.06-2.06.94zm10 10l.94 2.06.94-2.06 2.06-.94-2.06-.94-.94-2.06-.94 2.06-2.06.94z\"/><path d=\"M17.41 7.96l-1.37-1.37c-.4-.4-.92-.59-1.43-.59-.52 0-1.04.2-1.43.59L10.3 9.45l-7.72 7.72c-.78.78-.78 2.05 0 2.83L4 21.41c.39.39.9.59 1.41.59.51 0 1.02-.2 1.41-.59l7.78-7.78 2.81-2.81c.8-.78.8-2.07 0-2.86zM5.41 20L4 18.59l7.72-7.72 1.47 1.35L5.41 20z\"/>\n",
              "  </svg>\n",
              "      </button>\n",
              "      \n",
              "  <style>\n",
              "    .colab-df-container {\n",
              "      display:flex;\n",
              "      flex-wrap:wrap;\n",
              "      gap: 12px;\n",
              "    }\n",
              "\n",
              "    .colab-df-convert {\n",
              "      background-color: #E8F0FE;\n",
              "      border: none;\n",
              "      border-radius: 50%;\n",
              "      cursor: pointer;\n",
              "      display: none;\n",
              "      fill: #1967D2;\n",
              "      height: 32px;\n",
              "      padding: 0 0 0 0;\n",
              "      width: 32px;\n",
              "    }\n",
              "\n",
              "    .colab-df-convert:hover {\n",
              "      background-color: #E2EBFA;\n",
              "      box-shadow: 0px 1px 2px rgba(60, 64, 67, 0.3), 0px 1px 3px 1px rgba(60, 64, 67, 0.15);\n",
              "      fill: #174EA6;\n",
              "    }\n",
              "\n",
              "    [theme=dark] .colab-df-convert {\n",
              "      background-color: #3B4455;\n",
              "      fill: #D2E3FC;\n",
              "    }\n",
              "\n",
              "    [theme=dark] .colab-df-convert:hover {\n",
              "      background-color: #434B5C;\n",
              "      box-shadow: 0px 1px 3px 1px rgba(0, 0, 0, 0.15);\n",
              "      filter: drop-shadow(0px 1px 2px rgba(0, 0, 0, 0.3));\n",
              "      fill: #FFFFFF;\n",
              "    }\n",
              "  </style>\n",
              "\n",
              "      <script>\n",
              "        const buttonEl =\n",
              "          document.querySelector('#df-531c1aed-9641-49a9-b3c8-cbce390ebc8e button.colab-df-convert');\n",
              "        buttonEl.style.display =\n",
              "          google.colab.kernel.accessAllowed ? 'block' : 'none';\n",
              "\n",
              "        async function convertToInteractive(key) {\n",
              "          const element = document.querySelector('#df-531c1aed-9641-49a9-b3c8-cbce390ebc8e');\n",
              "          const dataTable =\n",
              "            await google.colab.kernel.invokeFunction('convertToInteractive',\n",
              "                                                     [key], {});\n",
              "          if (!dataTable) return;\n",
              "\n",
              "          const docLinkHtml = 'Like what you see? Visit the ' +\n",
              "            '<a target=\"_blank\" href=https://colab.research.google.com/notebooks/data_table.ipynb>data table notebook</a>'\n",
              "            + ' to learn more about interactive tables.';\n",
              "          element.innerHTML = '';\n",
              "          dataTable['output_type'] = 'display_data';\n",
              "          await google.colab.output.renderOutput(dataTable, element);\n",
              "          const docLink = document.createElement('div');\n",
              "          docLink.innerHTML = docLinkHtml;\n",
              "          element.appendChild(docLink);\n",
              "        }\n",
              "      </script>\n",
              "    </div>\n",
              "  </div>\n",
              "  "
            ]
          },
          "metadata": {},
          "execution_count": 27
        }
      ]
    },
    {
      "cell_type": "markdown",
      "source": [
        "8.Подберите оптимальные параметры алгоритма из библиотеки xgbost с помощью optuna . Параметры для оптимизации:\n",
        "\n",
        "скорость обучения\n",
        "\n",
        "количество деревьев\n",
        "\n",
        "глубина деревьев\n",
        "\n",
        "Сравните результат с поиском по сетке из sklearn. Выведите лучшие параметры алгоритма, найденные даным способом."
      ],
      "metadata": {
        "id": "fOttZusortrU"
      }
    },
    {
      "cell_type": "code",
      "source": [
        "!pip install optuna"
      ],
      "metadata": {
        "id": "NjxVQ72VuxAP"
      },
      "execution_count": null,
      "outputs": []
    },
    {
      "cell_type": "code",
      "source": [
        "import optuna\n",
        "from functools import partial\n",
        "from sklearn.pipeline import Pipeline"
      ],
      "metadata": {
        "id": "l3PXNbbcruuc"
      },
      "execution_count": 29,
      "outputs": []
    },
    {
      "cell_type": "code",
      "source": [
        "from sklearn.model_selection import KFold\n",
        "from sklearn.metrics import mean_squared_error\n",
        "from sklearn.model_selection import train_test_split"
      ],
      "metadata": {
        "id": "KPI5vL9E5UUh"
      },
      "execution_count": 30,
      "outputs": []
    },
    {
      "cell_type": "code",
      "source": [
        "def opt(objective):\n",
        "    study = optuna.create_study(direction=\"maximize\")\n",
        "    optuna.logging.set_verbosity(optuna.logging.WARNING)\n",
        "    study.optimize(objective, n_trials=100)\n",
        "\n",
        "    params = study.best_params\n",
        "    best_score = study.best_value\n",
        "    print(f\"Best score: {best_score}\\n\")\n",
        "    print(f\"Optimized parameters: {params}\\n\")\n",
        "    return params\n",
        "\n",
        "\n",
        "def XGB_objective(trial):\n",
        "    _n_estimators = trial.suggest_int('n_estimators', 25, 200)\n",
        "    _max_depth = trial.suggest_categorical('max_depth', [5,7,9,11,13,15,17])\n",
        "    _learning_rate = trial.suggest_categorical('learning_rate', [0.008,0.01,0.012,0.014,0.016,0.018, 0.02])\n",
        "\n",
        "    xgbc = XGBClassifier(\n",
        "        max_depth=_max_depth,\n",
        "        n_estimators=_n_estimators,\n",
        "        learning_rate=_learning_rate,\n",
        "        n_jobs=-1,\n",
        "        random_state=42\n",
        "    )\n",
        "\n",
        "    scores = cross_val_score(xgbc, X, y, cv=3, scoring='accuracy')\n",
        "    return scores.mean()\n"
      ],
      "metadata": {
        "id": "uktlg8WUNTWA"
      },
      "execution_count": 31,
      "outputs": []
    },
    {
      "cell_type": "code",
      "source": [
        "best_params = opt(XGB_objective)"
      ],
      "metadata": {
        "colab": {
          "base_uri": "https://localhost:8080/"
        },
        "id": "5FONvXSqWjMo",
        "outputId": "0192efec-63e8-4e1c-9e8f-4ae5e089bdee"
      },
      "execution_count": 32,
      "outputs": [
        {
          "output_type": "stream",
          "name": "stderr",
          "text": [
            "\u001b[32m[I 2022-11-06 06:55:51,046]\u001b[0m A new study created in memory with name: no-name-ba73c764-b460-4dde-bbd9-b7c75408c257\u001b[0m\n"
          ]
        },
        {
          "output_type": "stream",
          "name": "stdout",
          "text": [
            "Best score: 0.58411507191995\n",
            "\n",
            "Optimized parameters: {'n_estimators': 71, 'max_depth': 5, 'learning_rate': 0.018}\n",
            "\n"
          ]
        }
      ]
    },
    {
      "cell_type": "markdown",
      "source": [
        "9.Выведите качество по метрике accuracy стэкинга (StackingClassifier) 4-х алгоритмов с базовыми параметрами градиентного бустинга."
      ],
      "metadata": {
        "id": "ML8-hFATHKBa"
      }
    },
    {
      "cell_type": "code",
      "source": [
        "from sklearn.ensemble import StackingClassifier"
      ],
      "metadata": {
        "id": "q0lSIqB5HLPa"
      },
      "execution_count": 33,
      "outputs": []
    },
    {
      "cell_type": "code",
      "source": [
        "estimators = [\n",
        "    ('cbc', CatBoostClassifier()),\n",
        "    ('lgbmc', LGBMClassifier()),\n",
        "    ('rfc', GradientBoostingClassifier()),\n",
        "    ('xgbc', XGBClassifier())\n",
        "]\n",
        "stacked = StackingClassifier(estimators=estimators)\n",
        "%time score = cross_val_score(estimator=stacked, X=X, y=y, scoring='accuracy', cv=3, n_jobs=-1).mean()\n",
        "score"
      ],
      "metadata": {
        "colab": {
          "base_uri": "https://localhost:8080/"
        },
        "id": "ovJlZhWSHpQ1",
        "outputId": "a5c54a40-122e-4af1-acec-0bd14c7623af"
      },
      "execution_count": 34,
      "outputs": [
        {
          "output_type": "stream",
          "name": "stdout",
          "text": [
            "CPU times: user 1.32 s, sys: 189 ms, total: 1.51 s\n",
            "Wall time: 3min 12s\n"
          ]
        },
        {
          "output_type": "execute_result",
          "data": {
            "text/plain": [
              "0.575984990619137"
            ]
          },
          "metadata": {},
          "execution_count": 34
        }
      ]
    },
    {
      "cell_type": "markdown",
      "source": [
        "10.Выведите качество по метрике accuracy стэкинга 4-х алгоритмов с оптимальными параметрами градиентного бустинга. Сравните результаты с предыдущим шагом и напишите какой вывод можно из этого сделать."
      ],
      "metadata": {
        "id": "x8qqVGE2H01a"
      }
    },
    {
      "cell_type": "code",
      "source": [
        "from hyperopt import hp, fmin, tpe, Trials, STATUS_OK\n",
        "from functools import partial\n",
        "from sklearn.pipeline import Pipeline"
      ],
      "metadata": {
        "id": "2fExT1b-7lLj"
      },
      "execution_count": 40,
      "outputs": []
    },
    {
      "cell_type": "code",
      "source": [
        "models = [\n",
        "    {'name':'gbc', 'clf':GradientBoostingClassifier(), \n",
        "     'metrics':{'param_name':'criterion','param_vals':['friedman_mse', 'mae']}},\n",
        "    {'name':'xgbc', 'clf':XGBClassifier(),\n",
        "     'metrics':{'param_name':'eval_metric','param_vals':['mlogloss', 'mae']}},\n",
        "    {'name':'lgbmc', 'clf':LGBMClassifier(objective='multi:softprob'),\n",
        "     'metrics':{'param_name':'eval_metric','param_vals':['mlogloss', 'mae']}},\n",
        "    {'name':'cbc', 'clf':CatBoostClassifier(loss_function='MultiClass'),\n",
        "     'metrics':{'param_name':'eval_metric','param_vals':['MultiClass']}},\n",
        "]\n",
        "\n",
        "def objective(params, pipe,  X_train, y_train):\n",
        "    pipe.set_params(**params)\n",
        "    score = cross_val_score(estimator=pipe, X=X_train, y=y_train, scoring='accuracy', cv=3, n_jobs=-1)\n",
        "    return {'loss': -score.mean(), 'params': params, 'status': STATUS_OK}\n",
        "\n",
        "best_trials = {}\n",
        "\n",
        "for model in models:\n",
        "    name = model['name']\n",
        "    clf = model['clf']\n",
        "    param_name = model['metrics']['param_name']\n",
        "    param_vals = model['metrics']['param_vals']\n",
        "    pipe = Pipeline([(name, clf)])\n",
        "    search_space = {\n",
        "        name+'__'+param_name: hp.choice(label=param_name, options=param_vals),\n",
        "        name+'__learning_rate' : hp.loguniform(label='learning_rate', low=np.log(0.04), high=np.log(0.5)),\n",
        "        name+'__max_depth' :  hp.choice(label=\"max_depth\", options=np.arange(2, 10, 1, dtype=int)),\n",
        "        name+'__n_estimators' : hp.choice(label=\"n_estimators\", options=np.arange(1, 100, 10, dtype=int))\n",
        "    }\n",
        "    trials = Trials()\n",
        "    best = fmin( \n",
        "        fn=partial(objective, pipe=pipe, X_train=X, y_train=y),\n",
        "        space=search_space,\n",
        "        algo=tpe.suggest,\n",
        "        max_evals=40,\n",
        "        trials=trials,\n",
        "        show_progressbar=True\n",
        "    )\n",
        "    best_trials[name] = trials.best_trial\n",
        "    print('name -', name)\n",
        "    print('loss -', trials.best_trial['result']['loss'])\n",
        "    for param_name in trials.best_trial['result']['params']:\n",
        "        print(param_name.split('__')[1], '-', trials.best_trial['result']['params'][param_name])\n",
        "    print('\\n')"
      ],
      "metadata": {
        "colab": {
          "base_uri": "https://localhost:8080/"
        },
        "id": "Wiis8dDUH_Um",
        "outputId": "4d2933b2-03f7-47ac-bc5a-c06d311eff88"
      },
      "execution_count": 41,
      "outputs": [
        {
          "output_type": "stream",
          "name": "stdout",
          "text": [
            "100%|██████████| 40/40 [10:05<00:00, 15.15s/it, best loss: -0.5728580362726704]\n",
            "name - gbc\n",
            "loss - -0.5728580362726704\n",
            "criterion - friedman_mse\n",
            "learning_rate - 0.05279188333662047\n",
            "max_depth - 2\n",
            "n_estimators - 71\n",
            "\n",
            "\n",
            "100%|██████████| 40/40 [00:30<00:00,  1.32it/s, best loss: -0.5841150719199499]\n",
            "name - xgbc\n",
            "loss - -0.5841150719199499\n",
            "eval_metric - mlogloss\n",
            "learning_rate - 0.05011130589268611\n",
            "max_depth - 4\n",
            "n_estimators - 41\n",
            "\n",
            "\n",
            "100%|██████████| 40/40 [00:14<00:00,  2.77it/s, best loss: -0.5784865540963102]\n",
            "name - lgbmc\n",
            "loss - -0.5784865540963102\n",
            "eval_metric - mlogloss\n",
            "learning_rate - 0.06606785423186147\n",
            "max_depth - 2\n",
            "n_estimators - 51\n",
            "\n",
            "\n",
            "100%|██████████| 40/40 [01:15<00:00,  1.88s/it, best loss: -0.5928705440900562]\n",
            "name - cbc\n",
            "loss - -0.5928705440900562\n",
            "eval_metric - MultiClass\n",
            "learning_rate - 0.04062780729885765\n",
            "max_depth - 4\n",
            "n_estimators - 81\n",
            "\n",
            "\n"
          ]
        }
      ]
    },
    {
      "cell_type": "code",
      "source": [
        "clfs = {'gbc':GradientBoostingClassifier, 'xgbc':XGBClassifier, 'lgbmc':LGBMClassifier, 'cbc':CatBoostClassifier}\n",
        "optimal_models = []\n",
        "for name in best_trials:\n",
        "    params = best_trials[name]['result']['params']\n",
        "    renamed_params = {}\n",
        "    for param_name in params:\n",
        "        renamed_name = param_name.split('__')[1]\n",
        "        renamed_params[renamed_name] = params[param_name]\n",
        "    model = clfs[name]\n",
        "    optimal_model = model(**renamed_params)\n",
        "    optimal_models.append((name, optimal_model))\n",
        "\n",
        "stacked = StackingClassifier(estimators=optimal_models)\n",
        "%time score = cross_val_score(estimator=stacked, X=X, y=y, scoring='accuracy', cv=3, n_jobs=-1).mean()\n",
        "score"
      ],
      "metadata": {
        "id": "ZO8iLLPBIEpl",
        "colab": {
          "base_uri": "https://localhost:8080/"
        },
        "outputId": "b9202327-15c1-4f86-8f5e-71bdbffdb5bb"
      },
      "execution_count": 42,
      "outputs": [
        {
          "output_type": "stream",
          "name": "stdout",
          "text": [
            "CPU times: user 171 ms, sys: 15.3 ms, total: 186 ms\n",
            "Wall time: 22.4 s\n"
          ]
        },
        {
          "output_type": "execute_result",
          "data": {
            "text/plain": [
              "0.5872420262664165"
            ]
          },
          "metadata": {},
          "execution_count": 42
        }
      ]
    },
    {
      "cell_type": "markdown",
      "source": [
        "Стэкинг моделей с оптимальными параметрами, показывает более лучший результат по метрике и по времени обучения. Вывод- данный ансамблевый лучше применять на предподготовленных моделях с заранее подобранными оптимальными параметрами."
      ],
      "metadata": {
        "id": "SFcmcWi1IIZx"
      }
    },
    {
      "cell_type": "code",
      "source": [],
      "metadata": {
        "id": "B4NHtvF6IMCz"
      },
      "execution_count": null,
      "outputs": []
    }
  ]
}
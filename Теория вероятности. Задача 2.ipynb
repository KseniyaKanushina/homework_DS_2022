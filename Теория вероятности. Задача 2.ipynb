{
 "cells": [
  {
   "cell_type": "markdown",
   "id": "e268b932",
   "metadata": {},
   "source": [
    "# Теория вероятности. События"
   ]
  },
  {
   "cell_type": "markdown",
   "id": "cc52f2d8",
   "metadata": {},
   "source": [
    "Задача 2\n",
    "В ящике 5 апельсинов и 4 яблока. Наудачу выбираются 3 фрукта. Какова вероятность, что все три фрукта – апельсины?\n",
    "В интернете полученный аналитически ответ 0.119. Подтверждается ли он эксперементально?"
   ]
  },
  {
   "cell_type": "code",
   "execution_count": 3,
   "id": "9b61bc10",
   "metadata": {},
   "outputs": [],
   "source": [
    "import pandas as pd\n",
    "import numpy as np\n",
    "import random\n",
    "import requests # for web-download\n",
    "import io # for web-download\n",
    "import re # for data processing"
   ]
  },
  {
   "cell_type": "code",
   "execution_count": 29,
   "id": "d5c44854",
   "metadata": {},
   "outputs": [
    {
     "data": {
      "text/plain": [
       "0.0"
      ]
     },
     "execution_count": 29,
     "metadata": {},
     "output_type": "execute_result"
    }
   ],
   "source": [
    "# заполняем ящик фруктами\n",
    "B = [\"orange\"]*5 + ['aplle']*4\n",
    "\n",
    "# задаем число экспериментов\n",
    "n = 100000\n",
    "# формируем выборку\n",
    "A = pd.DataFrame({\"A\":list(map(lambda a: random.choices(B, k=3), range(n)))})\n",
    "\n",
    "# считаем статистику выбора трех апельсинов одновременно\n",
    "P_orange = len(A[A.A=='orange, orange, orange'])/A.shape[0]\n",
    "P_orange"
   ]
  },
  {
   "cell_type": "code",
   "execution_count": 22,
   "id": "1eae601b",
   "metadata": {},
   "outputs": [
    {
     "data": {
      "text/html": [
       "<div>\n",
       "<style scoped>\n",
       "    .dataframe tbody tr th:only-of-type {\n",
       "        vertical-align: middle;\n",
       "    }\n",
       "\n",
       "    .dataframe tbody tr th {\n",
       "        vertical-align: top;\n",
       "    }\n",
       "\n",
       "    .dataframe thead th {\n",
       "        text-align: right;\n",
       "    }\n",
       "</style>\n",
       "<table border=\"1\" class=\"dataframe\">\n",
       "  <thead>\n",
       "    <tr style=\"text-align: right;\">\n",
       "      <th></th>\n",
       "      <th>A</th>\n",
       "    </tr>\n",
       "  </thead>\n",
       "  <tbody>\n",
       "    <tr>\n",
       "      <th>0</th>\n",
       "      <td>[aplle, aplle, aplle]</td>\n",
       "    </tr>\n",
       "    <tr>\n",
       "      <th>1</th>\n",
       "      <td>[orange, orange, orange]</td>\n",
       "    </tr>\n",
       "    <tr>\n",
       "      <th>2</th>\n",
       "      <td>[aplle, aplle, aplle]</td>\n",
       "    </tr>\n",
       "    <tr>\n",
       "      <th>3</th>\n",
       "      <td>[orange, orange, orange]</td>\n",
       "    </tr>\n",
       "    <tr>\n",
       "      <th>4</th>\n",
       "      <td>[aplle, orange, orange]</td>\n",
       "    </tr>\n",
       "    <tr>\n",
       "      <th>...</th>\n",
       "      <td>...</td>\n",
       "    </tr>\n",
       "    <tr>\n",
       "      <th>99995</th>\n",
       "      <td>[aplle, orange, orange]</td>\n",
       "    </tr>\n",
       "    <tr>\n",
       "      <th>99996</th>\n",
       "      <td>[orange, orange, aplle]</td>\n",
       "    </tr>\n",
       "    <tr>\n",
       "      <th>99997</th>\n",
       "      <td>[aplle, aplle, aplle]</td>\n",
       "    </tr>\n",
       "    <tr>\n",
       "      <th>99998</th>\n",
       "      <td>[aplle, aplle, aplle]</td>\n",
       "    </tr>\n",
       "    <tr>\n",
       "      <th>99999</th>\n",
       "      <td>[aplle, orange, orange]</td>\n",
       "    </tr>\n",
       "  </tbody>\n",
       "</table>\n",
       "<p>100000 rows × 1 columns</p>\n",
       "</div>"
      ],
      "text/plain": [
       "                              A\n",
       "0         [aplle, aplle, aplle]\n",
       "1      [orange, orange, orange]\n",
       "2         [aplle, aplle, aplle]\n",
       "3      [orange, orange, orange]\n",
       "4       [aplle, orange, orange]\n",
       "...                         ...\n",
       "99995   [aplle, orange, orange]\n",
       "99996   [orange, orange, aplle]\n",
       "99997     [aplle, aplle, aplle]\n",
       "99998     [aplle, aplle, aplle]\n",
       "99999   [aplle, orange, orange]\n",
       "\n",
       "[100000 rows x 1 columns]"
      ]
     },
     "execution_count": 22,
     "metadata": {},
     "output_type": "execute_result"
    }
   ],
   "source": [
    "A"
   ]
  },
  {
   "cell_type": "markdown",
   "id": "fb2689a9",
   "metadata": {},
   "source": [
    "Видимо что то сделала не так, так как результат показал ноль, хотя в выведенном дата  фрэйме точно есть три апельсина одновременно(("
   ]
  }
 ],
 "metadata": {
  "kernelspec": {
   "display_name": "Python 3",
   "language": "python",
   "name": "python3"
  },
  "language_info": {
   "codemirror_mode": {
    "name": "ipython",
    "version": 3
   },
   "file_extension": ".py",
   "mimetype": "text/x-python",
   "name": "python",
   "nbconvert_exporter": "python",
   "pygments_lexer": "ipython3",
   "version": "3.8.8"
  }
 },
 "nbformat": 4,
 "nbformat_minor": 5
}

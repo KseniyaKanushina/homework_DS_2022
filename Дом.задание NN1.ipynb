{
 "cells": [
  {
   "cell_type": "markdown",
   "id": "51aced0d",
   "metadata": {},
   "source": [
    "Написать на PyTorch forward и backward полносвязного слоя без использования autograd\n",
    "\n",
    "Написать 1-2 адаптивных оптимизатора\n",
    "\n",
    "Решить задачу нахождения корней квадратного уравнения методом градиентного спуска"
   ]
  },
  {
   "cell_type": "markdown",
   "id": "52f141e9",
   "metadata": {},
   "source": [
    "# Реализация полносвязного слоя с forward и backward"
   ]
  },
  {
   "cell_type": "code",
   "execution_count": 3,
   "id": "eb3064bb",
   "metadata": {},
   "outputs": [],
   "source": [
    "import pandas as pd\n",
    "import numpy as np\n",
    "\n",
    "import matplotlib.pyplot as plt"
   ]
  },
  {
   "cell_type": "code",
   "execution_count": 4,
   "id": "07070858",
   "metadata": {
    "scrolled": false
   },
   "outputs": [
    {
     "name": "stdout",
     "output_type": "stream",
     "text": [
      "Collecting torch\n",
      "  Downloading torch-1.13.0-cp38-cp38-win_amd64.whl (167.3 MB)\n",
      "Requirement already satisfied: typing-extensions in z:\\anaconda\\lib\\site-packages (from torch) (3.7.4.3)\n",
      "Installing collected packages: torch\n",
      "Successfully installed torch-1.13.0\n"
     ]
    }
   ],
   "source": [
    "!pip install torch"
   ]
  },
  {
   "cell_type": "code",
   "execution_count": 5,
   "id": "19da06b4",
   "metadata": {},
   "outputs": [],
   "source": [
    "import torch\n",
    "from torch import nn"
   ]
  },
  {
   "cell_type": "code",
   "execution_count": 6,
   "id": "a4668ec5",
   "metadata": {},
   "outputs": [],
   "source": [
    "def sigmoid(z):\n",
    "    return 1./(1+np.exp(-z))\n",
    "\n",
    "def loss(t, y):\n",
    "    return np.sum((t-y)**2, keepdims=True).flatten()*0.5\n",
    "\n",
    "def diff_loss(t, y):\n",
    "    return np.sum(np.abs(y-t), kkepdims=True).flatten()"
   ]
  },
  {
   "cell_type": "code",
   "execution_count": 9,
   "id": "9aff1fb0",
   "metadata": {},
   "outputs": [],
   "source": [
    "class LinearLayer:\n",
    "    \n",
    "    def __init__(self, n_inp, n_out, lr=0.1):\n",
    "        self.shape = (n_inp, n_out)\n",
    "        self.lr = lr\n",
    "        self.w = np.zeros(self.shape, dtype=np.float32)\n",
    "        self.b = np.zeros((1, n_out), dtype=np.float32)\n",
    "        self._clear_grads()\n",
    "    \n",
    "    def _clear_grads(self):\n",
    "        self.inp = None\n",
    "        self.activations = None\n",
    "        self.d_sigma = None\n",
    "        self.d_w = None\n",
    "        self.d_b = None\n",
    "    \n",
    "    def __call__(self, x):\n",
    "        print('asdfasd')\n",
    "        if len(x.shape) == 1:\n",
    "            x = x.reshape(1, -1)\n",
    "        self.inp = x\n",
    "        self.activations = sigmoid(x.dot(self.w) + self.b)\n",
    "        return self.activations\n",
    "    \n",
    "    def backward(self, grad):\n",
    "        self.d_sigma = self.activations * (1 - self.activations)\n",
    "        self.d_w = self.grad_w(grad)\n",
    "        self.d_b = self.grad_b(grad)\n",
    "        return self.grad_x(grad)\n",
    "    \n",
    "    def grad_w(self, grad):\n",
    "        return grad * self.inp.T * self.d_sigma\n",
    "    \n",
    "    def grad_b(self, grad):\n",
    "        return grad * self.d_sigma\n",
    "    \n",
    "    def grad_x(self, grad):\n",
    "        return self.w.dot(grad) * self.d_sigma\n",
    "    \n",
    "    def step(self):\n",
    "        self.w -= self.d_w * self.lr\n",
    "        self.b -= self.d_b * self.lr\n",
    "        self._clear_grads()\n",
    "        \n",
    "l1 = LinearLayer(5, 1)"
   ]
  },
  {
   "cell_type": "markdown",
   "id": "4e5a3257",
   "metadata": {},
   "source": [
    "# Реализация оптимизатора SGD Momentum:"
   ]
  },
  {
   "cell_type": "code",
   "execution_count": 10,
   "id": "3fe13a4b",
   "metadata": {},
   "outputs": [],
   "source": [
    "class SGDMomentum:\n",
    "    \n",
    "    def __init__(self, model,lr = 0.01, momentum = 0.9 ):\n",
    "        self.model = model\n",
    "        self.lr = lr\n",
    "        self.momentum = momentum\n",
    "        self.velocity = torch.zeros_like(model)\n",
    "        \n",
    "    def step(self, grad):\n",
    "        self.velocity = self.momentum * self.velocity - self.lr * grad\n",
    "        self.model += self.velocity"
   ]
  },
  {
   "cell_type": "markdown",
   "id": "b1340c11",
   "metadata": {},
   "source": [
    "# Реализация оптимизатора Adam:"
   ]
  },
  {
   "cell_type": "code",
   "execution_count": 11,
   "id": "b0a3ae1b",
   "metadata": {},
   "outputs": [],
   "source": [
    "class Adam:\n",
    "    \n",
    "    def __init__(self, model, a, \n",
    "                 m = 0,\n",
    "                 v = 0,\n",
    "                 t = 0,\n",
    "                 b1 = 0.9, \n",
    "                 b2 = 0.999, \n",
    "                 eps = 10 ** (-8) ):\n",
    "        self.model = model\n",
    "        self.a = a\n",
    "        self.m = m\n",
    "        self.v = v\n",
    "        self.t = t\n",
    "        self.b1 = b1\n",
    "        self.b2 = b2\n",
    "        self.eps = eps\n",
    "    \n",
    "    def step(self, grad):\n",
    "        self.t += 1\n",
    "        self.m = self.b1 * self.m + (1 - self.b1) * grad\n",
    "        self.v = self.b2 * self.v + (1 - self.b2) * grad\n",
    "        m_bias = self.m / (1-self.b1)\n",
    "        v_bias = self.v / (1-self.b2)\n",
    "        self.model -= (self.a * m_bias) / (v_bias**0.5 + self.eps)"
   ]
  },
  {
   "cell_type": "markdown",
   "id": "3138f6a2",
   "metadata": {},
   "source": [
    "# Поиск квадратных корней уравнения методом градиентного спуска"
   ]
  },
  {
   "cell_type": "code",
   "execution_count": null,
   "id": "00827e36",
   "metadata": {},
   "outputs": [],
   "source": [
    "# Task 1\n",
    "# Find the roots of square equation by gradient descent\n",
    "f(x) = -4x^2 + 4x + 1"
   ]
  },
  {
   "cell_type": "code",
   "execution_count": 20,
   "id": "e1fd7af2",
   "metadata": {},
   "outputs": [
    {
     "name": "stdout",
     "output_type": "stream",
     "text": [
      "tensor(0.5000)\n"
     ]
    }
   ],
   "source": [
    "a, b, c = -4, 4, 1\n",
    "\n",
    "f = lambda x: (a*x**2 + b*x + c)\n",
    "g = lambda x: -(2*a*x + b) \n",
    "\n",
    "def solver(init_x):\n",
    "    x = torch.tensor(init_x, dtype=torch.float32)\n",
    "    grad = g(x)\n",
    "    optim = Adam(x, 0.01)\n",
    "    for i in range(1000):\n",
    "        optim.step(grad)\n",
    "        grad = g(optim.model)\n",
    "    print(optim.model)\n",
    "    \n",
    "solver(6)"
   ]
  },
  {
   "cell_type": "code",
   "execution_count": null,
   "id": "5849c7fd",
   "metadata": {},
   "outputs": [],
   "source": []
  }
 ],
 "metadata": {
  "kernelspec": {
   "display_name": "Python 3",
   "language": "python",
   "name": "python3"
  },
  "language_info": {
   "codemirror_mode": {
    "name": "ipython",
    "version": 3
   },
   "file_extension": ".py",
   "mimetype": "text/x-python",
   "name": "python",
   "nbconvert_exporter": "python",
   "pygments_lexer": "ipython3",
   "version": "3.8.8"
  }
 },
 "nbformat": 4,
 "nbformat_minor": 5
}

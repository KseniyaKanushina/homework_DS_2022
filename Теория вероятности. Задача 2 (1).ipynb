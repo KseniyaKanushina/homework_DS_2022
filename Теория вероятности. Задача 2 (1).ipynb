{
 "cells": [
  {
   "cell_type": "markdown",
   "id": "e268b932",
   "metadata": {},
   "source": [
    "# Теория вероятности. События"
   ]
  },
  {
   "cell_type": "markdown",
   "id": "cc52f2d8",
   "metadata": {},
   "source": [
    "Задача 2\n",
    "В ящике 5 апельсинов и 4 яблока. Наудачу выбираются 3 фрукта. Какова вероятность, что все три фрукта – апельсины?\n",
    "В интернете полученный аналитически ответ 0.119. Подтверждается ли он эксперементально?"
   ]
  },
  {
   "cell_type": "code",
   "execution_count": 1,
   "id": "9b61bc10",
   "metadata": {},
   "outputs": [],
   "source": [
    "import pandas as pd\n",
    "import numpy as np\n",
    "import random\n",
    "import requests # for web-download\n",
    "import io # for web-download\n",
    "import re # for data processing\n",
    "from collections import Counter"
   ]
  },
  {
   "cell_type": "code",
   "execution_count": 2,
   "id": "d5c44854",
   "metadata": {},
   "outputs": [],
   "source": [
    "# заполняем ящик фруктами\n",
    "B = [\"orange\"]*5 + ['aplle']*4\n",
    "\n",
    "# задаем число экспериментов\n",
    "n = 100000\n",
    "# формируем выборку\n",
    "A = pd.DataFrame({\"A\":list(map(lambda a: random.choices(B, k=3), range(n)))})\n"
   ]
  },
  {
   "cell_type": "code",
   "execution_count": 3,
   "id": "77879cac",
   "metadata": {},
   "outputs": [
    {
     "data": {
      "text/html": [
       "<div>\n",
       "<style scoped>\n",
       "    .dataframe tbody tr th:only-of-type {\n",
       "        vertical-align: middle;\n",
       "    }\n",
       "\n",
       "    .dataframe tbody tr th {\n",
       "        vertical-align: top;\n",
       "    }\n",
       "\n",
       "    .dataframe thead th {\n",
       "        text-align: right;\n",
       "    }\n",
       "</style>\n",
       "<table border=\"1\" class=\"dataframe\">\n",
       "  <thead>\n",
       "    <tr style=\"text-align: right;\">\n",
       "      <th></th>\n",
       "      <th>A</th>\n",
       "    </tr>\n",
       "  </thead>\n",
       "  <tbody>\n",
       "    <tr>\n",
       "      <th>0</th>\n",
       "      <td>[orange, aplle, orange]</td>\n",
       "    </tr>\n",
       "    <tr>\n",
       "      <th>1</th>\n",
       "      <td>[orange, orange, orange]</td>\n",
       "    </tr>\n",
       "    <tr>\n",
       "      <th>2</th>\n",
       "      <td>[orange, orange, orange]</td>\n",
       "    </tr>\n",
       "    <tr>\n",
       "      <th>3</th>\n",
       "      <td>[aplle, orange, aplle]</td>\n",
       "    </tr>\n",
       "    <tr>\n",
       "      <th>4</th>\n",
       "      <td>[orange, aplle, orange]</td>\n",
       "    </tr>\n",
       "    <tr>\n",
       "      <th>...</th>\n",
       "      <td>...</td>\n",
       "    </tr>\n",
       "    <tr>\n",
       "      <th>99995</th>\n",
       "      <td>[aplle, aplle, orange]</td>\n",
       "    </tr>\n",
       "    <tr>\n",
       "      <th>99996</th>\n",
       "      <td>[orange, orange, aplle]</td>\n",
       "    </tr>\n",
       "    <tr>\n",
       "      <th>99997</th>\n",
       "      <td>[orange, aplle, aplle]</td>\n",
       "    </tr>\n",
       "    <tr>\n",
       "      <th>99998</th>\n",
       "      <td>[aplle, orange, aplle]</td>\n",
       "    </tr>\n",
       "    <tr>\n",
       "      <th>99999</th>\n",
       "      <td>[orange, orange, aplle]</td>\n",
       "    </tr>\n",
       "  </tbody>\n",
       "</table>\n",
       "<p>100000 rows × 1 columns</p>\n",
       "</div>"
      ],
      "text/plain": [
       "                              A\n",
       "0       [orange, aplle, orange]\n",
       "1      [orange, orange, orange]\n",
       "2      [orange, orange, orange]\n",
       "3        [aplle, orange, aplle]\n",
       "4       [orange, aplle, orange]\n",
       "...                         ...\n",
       "99995    [aplle, aplle, orange]\n",
       "99996   [orange, orange, aplle]\n",
       "99997    [orange, aplle, aplle]\n",
       "99998    [aplle, orange, aplle]\n",
       "99999   [orange, orange, aplle]\n",
       "\n",
       "[100000 rows x 1 columns]"
      ]
     },
     "execution_count": 3,
     "metadata": {},
     "output_type": "execute_result"
    }
   ],
   "source": [
    "A"
   ]
  },
  {
   "cell_type": "code",
   "execution_count": 5,
   "id": "59e1a80f",
   "metadata": {},
   "outputs": [
    {
     "data": {
      "text/html": [
       "<div>\n",
       "<style scoped>\n",
       "    .dataframe tbody tr th:only-of-type {\n",
       "        vertical-align: middle;\n",
       "    }\n",
       "\n",
       "    .dataframe tbody tr th {\n",
       "        vertical-align: top;\n",
       "    }\n",
       "\n",
       "    .dataframe thead th {\n",
       "        text-align: right;\n",
       "    }\n",
       "</style>\n",
       "<table border=\"1\" class=\"dataframe\">\n",
       "  <thead>\n",
       "    <tr style=\"text-align: right;\">\n",
       "      <th></th>\n",
       "      <th>A</th>\n",
       "    </tr>\n",
       "  </thead>\n",
       "  <tbody>\n",
       "    <tr>\n",
       "      <th>[orange, orange, orange]</th>\n",
       "      <td>17243</td>\n",
       "    </tr>\n",
       "    <tr>\n",
       "      <th>[aplle, orange, orange]</th>\n",
       "      <td>13827</td>\n",
       "    </tr>\n",
       "    <tr>\n",
       "      <th>[orange, orange, aplle]</th>\n",
       "      <td>13646</td>\n",
       "    </tr>\n",
       "    <tr>\n",
       "      <th>[orange, aplle, orange]</th>\n",
       "      <td>13645</td>\n",
       "    </tr>\n",
       "    <tr>\n",
       "      <th>[aplle, orange, aplle]</th>\n",
       "      <td>10951</td>\n",
       "    </tr>\n",
       "    <tr>\n",
       "      <th>[orange, aplle, aplle]</th>\n",
       "      <td>10826</td>\n",
       "    </tr>\n",
       "    <tr>\n",
       "      <th>[aplle, aplle, orange]</th>\n",
       "      <td>10788</td>\n",
       "    </tr>\n",
       "    <tr>\n",
       "      <th>[aplle, aplle, aplle]</th>\n",
       "      <td>9074</td>\n",
       "    </tr>\n",
       "  </tbody>\n",
       "</table>\n",
       "</div>"
      ],
      "text/plain": [
       "                              A\n",
       "[orange, orange, orange]  17243\n",
       "[aplle, orange, orange]   13827\n",
       "[orange, orange, aplle]   13646\n",
       "[orange, aplle, orange]   13645\n",
       "[aplle, orange, aplle]    10951\n",
       "[orange, aplle, aplle]    10826\n",
       "[aplle, aplle, orange]    10788\n",
       "[aplle, aplle, aplle]      9074"
      ]
     },
     "execution_count": 5,
     "metadata": {},
     "output_type": "execute_result"
    }
   ],
   "source": [
    "P_orange_df= A['A'].value_counts().to_frame()\n",
    "P_orange_df"
   ]
  },
  {
   "cell_type": "code",
   "execution_count": 10,
   "id": "a972a749",
   "metadata": {},
   "outputs": [
    {
     "data": {
      "text/plain": [
       "0.17243"
      ]
     },
     "execution_count": 10,
     "metadata": {},
     "output_type": "execute_result"
    }
   ],
   "source": [
    "P_orange=P_orange_df.iloc[0,0]/n\n",
    "P_orange"
   ]
  }
 ],
 "metadata": {
  "kernelspec": {
   "display_name": "Python 3",
   "language": "python",
   "name": "python3"
  },
  "language_info": {
   "codemirror_mode": {
    "name": "ipython",
    "version": 3
   },
   "file_extension": ".py",
   "mimetype": "text/x-python",
   "name": "python",
   "nbconvert_exporter": "python",
   "pygments_lexer": "ipython3",
   "version": "3.8.8"
  }
 },
 "nbformat": 4,
 "nbformat_minor": 5
}
